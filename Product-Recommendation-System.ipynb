{
 "cells": [
  {
   "cell_type": "code",
   "execution_count": 1,
   "id": "3728e9fe",
   "metadata": {},
   "outputs": [],
   "source": [
    "import pandas as pd \n",
    "import numpy as np \n",
    "import matplotlib.pyplot as plt\n",
    "\n",
    "%matplotlib inline "
   ]
  },
  {
   "cell_type": "code",
   "execution_count": 2,
   "id": "0dd12653",
   "metadata": {},
   "outputs": [
    {
     "data": {
      "text/html": [
       "<div>\n",
       "<style scoped>\n",
       "    .dataframe tbody tr th:only-of-type {\n",
       "        vertical-align: middle;\n",
       "    }\n",
       "\n",
       "    .dataframe tbody tr th {\n",
       "        vertical-align: top;\n",
       "    }\n",
       "\n",
       "    .dataframe thead th {\n",
       "        text-align: right;\n",
       "    }\n",
       "</style>\n",
       "<table border=\"1\" class=\"dataframe\">\n",
       "  <thead>\n",
       "    <tr style=\"text-align: right;\">\n",
       "      <th></th>\n",
       "      <th>user_id</th>\n",
       "      <th>quiz_type</th>\n",
       "      <th>quiz_number</th>\n",
       "      <th>question_number</th>\n",
       "      <th>item_id</th>\n",
       "      <th>rating</th>\n",
       "    </tr>\n",
       "  </thead>\n",
       "  <tbody>\n",
       "    <tr>\n",
       "      <th>0</th>\n",
       "      <td>0</td>\n",
       "      <td>random</td>\n",
       "      <td>0</td>\n",
       "      <td>0</td>\n",
       "      <td>45</td>\n",
       "      <td>1</td>\n",
       "    </tr>\n",
       "    <tr>\n",
       "      <th>1</th>\n",
       "      <td>0</td>\n",
       "      <td>random</td>\n",
       "      <td>0</td>\n",
       "      <td>1</td>\n",
       "      <td>734</td>\n",
       "      <td>1</td>\n",
       "    </tr>\n",
       "    <tr>\n",
       "      <th>2</th>\n",
       "      <td>0</td>\n",
       "      <td>random</td>\n",
       "      <td>0</td>\n",
       "      <td>2</td>\n",
       "      <td>4145</td>\n",
       "      <td>1</td>\n",
       "    </tr>\n",
       "    <tr>\n",
       "      <th>3</th>\n",
       "      <td>0</td>\n",
       "      <td>random</td>\n",
       "      <td>0</td>\n",
       "      <td>3</td>\n",
       "      <td>3231</td>\n",
       "      <td>0</td>\n",
       "    </tr>\n",
       "    <tr>\n",
       "      <th>4</th>\n",
       "      <td>0</td>\n",
       "      <td>random</td>\n",
       "      <td>0</td>\n",
       "      <td>4</td>\n",
       "      <td>361</td>\n",
       "      <td>1</td>\n",
       "    </tr>\n",
       "    <tr>\n",
       "      <th>5</th>\n",
       "      <td>0</td>\n",
       "      <td>random</td>\n",
       "      <td>0</td>\n",
       "      <td>5</td>\n",
       "      <td>4005</td>\n",
       "      <td>1</td>\n",
       "    </tr>\n",
       "    <tr>\n",
       "      <th>6</th>\n",
       "      <td>0</td>\n",
       "      <td>random</td>\n",
       "      <td>0</td>\n",
       "      <td>6</td>\n",
       "      <td>3854</td>\n",
       "      <td>1</td>\n",
       "    </tr>\n",
       "    <tr>\n",
       "      <th>7</th>\n",
       "      <td>0</td>\n",
       "      <td>random</td>\n",
       "      <td>0</td>\n",
       "      <td>7</td>\n",
       "      <td>3996</td>\n",
       "      <td>0</td>\n",
       "    </tr>\n",
       "    <tr>\n",
       "      <th>8</th>\n",
       "      <td>0</td>\n",
       "      <td>random</td>\n",
       "      <td>0</td>\n",
       "      <td>8</td>\n",
       "      <td>3827</td>\n",
       "      <td>0</td>\n",
       "    </tr>\n",
       "    <tr>\n",
       "      <th>9</th>\n",
       "      <td>0</td>\n",
       "      <td>random</td>\n",
       "      <td>0</td>\n",
       "      <td>9</td>\n",
       "      <td>513</td>\n",
       "      <td>0</td>\n",
       "    </tr>\n",
       "  </tbody>\n",
       "</table>\n",
       "</div>"
      ],
      "text/plain": [
       "   user_id quiz_type  quiz_number  question_number  item_id  rating\n",
       "0        0    random            0                0       45       1\n",
       "1        0    random            0                1      734       1\n",
       "2        0    random            0                2     4145       1\n",
       "3        0    random            0                3     3231       0\n",
       "4        0    random            0                4      361       1\n",
       "5        0    random            0                5     4005       1\n",
       "6        0    random            0                6     3854       1\n",
       "7        0    random            0                7     3996       0\n",
       "8        0    random            0                8     3827       0\n",
       "9        0    random            0                9      513       0"
      ]
     },
     "execution_count": 2,
     "metadata": {},
     "output_type": "execute_result"
    }
   ],
   "source": [
    "# loading dataframe\n",
    "rating_data = pd.read_csv('C:/Users/Payel/OneDrive/Documents/Stitch Fix/take_home_ss_ratings.csv')\n",
    "rating_data.head(10)"
   ]
  },
  {
   "cell_type": "code",
   "execution_count": 3,
   "id": "2c712477",
   "metadata": {},
   "outputs": [
    {
     "name": "stdout",
     "output_type": "stream",
     "text": [
      "<class 'pandas.core.frame.DataFrame'>\n",
      "RangeIndex: 1116370 entries, 0 to 1116369\n",
      "Data columns (total 6 columns):\n",
      " #   Column           Non-Null Count    Dtype \n",
      "---  ------           --------------    ----- \n",
      " 0   user_id          1116370 non-null  int64 \n",
      " 1   quiz_type        1116370 non-null  object\n",
      " 2   quiz_number      1116370 non-null  int64 \n",
      " 3   question_number  1116370 non-null  int64 \n",
      " 4   item_id          1116370 non-null  int64 \n",
      " 5   rating           1116370 non-null  int64 \n",
      "dtypes: int64(5), object(1)\n",
      "memory usage: 51.1+ MB\n"
     ]
    }
   ],
   "source": [
    "rating_data.info()"
   ]
  },
  {
   "cell_type": "code",
   "execution_count": 4,
   "id": "b6cead19",
   "metadata": {},
   "outputs": [
    {
     "data": {
      "text/html": [
       "<div>\n",
       "<style scoped>\n",
       "    .dataframe tbody tr th:only-of-type {\n",
       "        vertical-align: middle;\n",
       "    }\n",
       "\n",
       "    .dataframe tbody tr th {\n",
       "        vertical-align: top;\n",
       "    }\n",
       "\n",
       "    .dataframe thead th {\n",
       "        text-align: right;\n",
       "    }\n",
       "</style>\n",
       "<table border=\"1\" class=\"dataframe\">\n",
       "  <thead>\n",
       "    <tr style=\"text-align: right;\">\n",
       "      <th></th>\n",
       "      <th>user_id</th>\n",
       "      <th>quiz_number</th>\n",
       "      <th>question_number</th>\n",
       "      <th>item_id</th>\n",
       "      <th>rating</th>\n",
       "    </tr>\n",
       "  </thead>\n",
       "  <tbody>\n",
       "    <tr>\n",
       "      <th>count</th>\n",
       "      <td>1.116370e+06</td>\n",
       "      <td>1.116370e+06</td>\n",
       "      <td>1.116370e+06</td>\n",
       "      <td>1.116370e+06</td>\n",
       "      <td>1.116370e+06</td>\n",
       "    </tr>\n",
       "    <tr>\n",
       "      <th>mean</th>\n",
       "      <td>1.008252e+04</td>\n",
       "      <td>5.424322e+00</td>\n",
       "      <td>5.874322e+01</td>\n",
       "      <td>2.491401e+03</td>\n",
       "      <td>5.608651e-01</td>\n",
       "    </tr>\n",
       "    <tr>\n",
       "      <th>std</th>\n",
       "      <td>5.777667e+03</td>\n",
       "      <td>6.631367e+00</td>\n",
       "      <td>6.637585e+01</td>\n",
       "      <td>1.443483e+03</td>\n",
       "      <td>4.962818e-01</td>\n",
       "    </tr>\n",
       "    <tr>\n",
       "      <th>min</th>\n",
       "      <td>0.000000e+00</td>\n",
       "      <td>0.000000e+00</td>\n",
       "      <td>0.000000e+00</td>\n",
       "      <td>0.000000e+00</td>\n",
       "      <td>0.000000e+00</td>\n",
       "    </tr>\n",
       "    <tr>\n",
       "      <th>25%</th>\n",
       "      <td>5.111000e+03</td>\n",
       "      <td>1.000000e+00</td>\n",
       "      <td>1.500000e+01</td>\n",
       "      <td>1.246000e+03</td>\n",
       "      <td>0.000000e+00</td>\n",
       "    </tr>\n",
       "    <tr>\n",
       "      <th>50%</th>\n",
       "      <td>1.010400e+04</td>\n",
       "      <td>3.000000e+00</td>\n",
       "      <td>3.700000e+01</td>\n",
       "      <td>2.482000e+03</td>\n",
       "      <td>1.000000e+00</td>\n",
       "    </tr>\n",
       "    <tr>\n",
       "      <th>75%</th>\n",
       "      <td>1.506400e+04</td>\n",
       "      <td>7.000000e+00</td>\n",
       "      <td>7.900000e+01</td>\n",
       "      <td>3.743000e+03</td>\n",
       "      <td>1.000000e+00</td>\n",
       "    </tr>\n",
       "    <tr>\n",
       "      <th>max</th>\n",
       "      <td>1.999900e+04</td>\n",
       "      <td>1.030000e+02</td>\n",
       "      <td>1.039000e+03</td>\n",
       "      <td>4.999000e+03</td>\n",
       "      <td>1.000000e+00</td>\n",
       "    </tr>\n",
       "  </tbody>\n",
       "</table>\n",
       "</div>"
      ],
      "text/plain": [
       "            user_id   quiz_number  question_number       item_id        rating\n",
       "count  1.116370e+06  1.116370e+06     1.116370e+06  1.116370e+06  1.116370e+06\n",
       "mean   1.008252e+04  5.424322e+00     5.874322e+01  2.491401e+03  5.608651e-01\n",
       "std    5.777667e+03  6.631367e+00     6.637585e+01  1.443483e+03  4.962818e-01\n",
       "min    0.000000e+00  0.000000e+00     0.000000e+00  0.000000e+00  0.000000e+00\n",
       "25%    5.111000e+03  1.000000e+00     1.500000e+01  1.246000e+03  0.000000e+00\n",
       "50%    1.010400e+04  3.000000e+00     3.700000e+01  2.482000e+03  1.000000e+00\n",
       "75%    1.506400e+04  7.000000e+00     7.900000e+01  3.743000e+03  1.000000e+00\n",
       "max    1.999900e+04  1.030000e+02     1.039000e+03  4.999000e+03  1.000000e+00"
      ]
     },
     "execution_count": 4,
     "metadata": {},
     "output_type": "execute_result"
    }
   ],
   "source": [
    "rating_data.describe() # summary statistics of rating data "
   ]
  },
  {
   "cell_type": "code",
   "execution_count": 5,
   "id": "84c6ad1f",
   "metadata": {},
   "outputs": [
    {
     "data": {
      "text/plain": [
       "(1116370, 6)"
      ]
     },
     "execution_count": 5,
     "metadata": {},
     "output_type": "execute_result"
    }
   ],
   "source": [
    "rating_data.shape"
   ]
  },
  {
   "cell_type": "code",
   "execution_count": 6,
   "id": "63bad972",
   "metadata": {},
   "outputs": [
    {
     "data": {
      "text/plain": [
       "user_id            0\n",
       "quiz_type          0\n",
       "quiz_number        0\n",
       "question_number    0\n",
       "item_id            0\n",
       "rating             0\n",
       "dtype: int64"
      ]
     },
     "execution_count": 6,
     "metadata": {},
     "output_type": "execute_result"
    }
   ],
   "source": [
    "# checking NaN values in features \n",
    "\n",
    "rating_data.isnull().sum()"
   ]
  },
  {
   "cell_type": "code",
   "execution_count": 7,
   "id": "e760e80b",
   "metadata": {},
   "outputs": [
    {
     "data": {
      "text/plain": [
       "<AxesSubplot:xlabel='rating', ylabel='count'>"
      ]
     },
     "execution_count": 7,
     "metadata": {},
     "output_type": "execute_result"
    },
    {
     "data": {
      "image/png": "[encoded data removed]",
      "text/plain": [
       "<Figure size 432x288 with 1 Axes>"
      ]
     },
     "metadata": {
      "needs_background": "light"
     },
     "output_type": "display_data"
    }
   ],
   "source": [
    "# checking the distribution of ratings (0,1) \n",
    "\n",
    "import seaborn as sns\n",
    "sns.countplot(x='rating', data=rating_data)  "
   ]
  },
  {
   "cell_type": "markdown",
   "id": "e20d3966",
   "metadata": {},
   "source": [
    "Most customers seem to be happier with their purchases than being disappointed"
   ]
  },
  {
   "cell_type": "code",
   "execution_count": 8,
   "id": "3d3de7e2",
   "metadata": {},
   "outputs": [
    {
     "data": {
      "text/plain": [
       "<AxesSubplot:xlabel='quiz_type', ylabel='count'>"
      ]
     },
     "execution_count": 8,
     "metadata": {},
     "output_type": "execute_result"
    },
    {
     "data": {
      "image/png": "[encoded data removed]",
      "text/plain": [
       "<Figure size 432x288 with 1 Axes>"
      ]
     },
     "metadata": {
      "needs_background": "light"
     },
     "output_type": "display_data"
    }
   ],
   "source": [
    "# checking the frequency of type of quiz\n",
    "\n",
    "sns.countplot(x='quiz_type', data=rating_data) "
   ]
  },
  {
   "cell_type": "code",
   "execution_count": 9,
   "id": "91ee2beb",
   "metadata": {},
   "outputs": [],
   "source": [
    "# encoding quiz_type (random and personalized) into 1 and 2 categories to check correlation between features \n",
    "\n",
    "encode_quiz_type = {\"quiz_type\": {\"random\": 1, \"personalized\": 2}}"
   ]
  },
  {
   "cell_type": "code",
   "execution_count": 10,
   "id": "0ef791e6",
   "metadata": {},
   "outputs": [
    {
     "data": {
      "text/html": [
       "<div>\n",
       "<style scoped>\n",
       "    .dataframe tbody tr th:only-of-type {\n",
       "        vertical-align: middle;\n",
       "    }\n",
       "\n",
       "    .dataframe tbody tr th {\n",
       "        vertical-align: top;\n",
       "    }\n",
       "\n",
       "    .dataframe thead th {\n",
       "        text-align: right;\n",
       "    }\n",
       "</style>\n",
       "<table border=\"1\" class=\"dataframe\">\n",
       "  <thead>\n",
       "    <tr style=\"text-align: right;\">\n",
       "      <th></th>\n",
       "      <th>user_id</th>\n",
       "      <th>quiz_type</th>\n",
       "      <th>quiz_number</th>\n",
       "      <th>question_number</th>\n",
       "      <th>item_id</th>\n",
       "      <th>rating</th>\n",
       "    </tr>\n",
       "  </thead>\n",
       "  <tbody>\n",
       "    <tr>\n",
       "      <th>0</th>\n",
       "      <td>0</td>\n",
       "      <td>1</td>\n",
       "      <td>0</td>\n",
       "      <td>0</td>\n",
       "      <td>45</td>\n",
       "      <td>1</td>\n",
       "    </tr>\n",
       "    <tr>\n",
       "      <th>1</th>\n",
       "      <td>0</td>\n",
       "      <td>1</td>\n",
       "      <td>0</td>\n",
       "      <td>1</td>\n",
       "      <td>734</td>\n",
       "      <td>1</td>\n",
       "    </tr>\n",
       "    <tr>\n",
       "      <th>2</th>\n",
       "      <td>0</td>\n",
       "      <td>1</td>\n",
       "      <td>0</td>\n",
       "      <td>2</td>\n",
       "      <td>4145</td>\n",
       "      <td>1</td>\n",
       "    </tr>\n",
       "    <tr>\n",
       "      <th>3</th>\n",
       "      <td>0</td>\n",
       "      <td>1</td>\n",
       "      <td>0</td>\n",
       "      <td>3</td>\n",
       "      <td>3231</td>\n",
       "      <td>0</td>\n",
       "    </tr>\n",
       "    <tr>\n",
       "      <th>4</th>\n",
       "      <td>0</td>\n",
       "      <td>1</td>\n",
       "      <td>0</td>\n",
       "      <td>4</td>\n",
       "      <td>361</td>\n",
       "      <td>1</td>\n",
       "    </tr>\n",
       "  </tbody>\n",
       "</table>\n",
       "</div>"
      ],
      "text/plain": [
       "   user_id  quiz_type  quiz_number  question_number  item_id  rating\n",
       "0        0          1            0                0       45       1\n",
       "1        0          1            0                1      734       1\n",
       "2        0          1            0                2     4145       1\n",
       "3        0          1            0                3     3231       0\n",
       "4        0          1            0                4      361       1"
      ]
     },
     "execution_count": 10,
     "metadata": {},
     "output_type": "execute_result"
    }
   ],
   "source": [
    "rating_data = rating_data.replace(encode_quiz_type)\n",
    "rating_data.head()"
   ]
  },
  {
   "cell_type": "code",
   "execution_count": 11,
   "id": "336eb004",
   "metadata": {},
   "outputs": [
    {
     "data": {
      "image/png": "[encoded data removed]",
      "text/plain": [
       "<Figure size 720x720 with 2 Axes>"
      ]
     },
     "metadata": {
      "needs_background": "light"
     },
     "output_type": "display_data"
    }
   ],
   "source": [
    "# plotting correlation matrix to check the correlation between features \n",
    "\n",
    "corr_matrix = rating_data.corr()\n",
    "top_corr_features = corr_matrix.index\n",
    "plt.figure(figsize=(10,10))\n",
    "\n",
    "# plotting heatmap \n",
    "heat_map = sns.heatmap(rating_data[top_corr_features].corr(), annot=True, cmap=\"Greens\")"
   ]
  },
  {
   "cell_type": "markdown",
   "id": "c903c3fc",
   "metadata": {},
   "source": [
    "Since quiz_number and question_number features are highly correlated with each other, it's better to remove them otherwise we'd run into multicollinearity conundrum. "
   ]
  },
  {
   "cell_type": "code",
   "execution_count": 12,
   "id": "b4343af5",
   "metadata": {},
   "outputs": [
    {
     "data": {
      "text/plain": [
       "array([    0,     1,     2, ..., 19997, 19998, 19999], dtype=int64)"
      ]
     },
     "execution_count": 12,
     "metadata": {},
     "output_type": "execute_result"
    }
   ],
   "source": [
    "rating_data['user_id'].unique()"
   ]
  },
  {
   "cell_type": "code",
   "execution_count": 13,
   "id": "ea60f641",
   "metadata": {},
   "outputs": [
    {
     "data": {
      "text/plain": [
       "array([   0,    1,    2, ..., 1037, 1038, 1039], dtype=int64)"
      ]
     },
     "execution_count": 13,
     "metadata": {},
     "output_type": "execute_result"
    }
   ],
   "source": [
    "rating_data['question_number'].unique()"
   ]
  },
  {
   "cell_type": "code",
   "execution_count": 14,
   "id": "51801025",
   "metadata": {},
   "outputs": [
    {
     "data": {
      "text/plain": [
       "array([  0,   1,   2,   3,   4,   5,   6,   7,   8,   9,  10,  11,  12,\n",
       "        13,  14,  15,  16,  17,  18,  19,  20,  21,  22,  23,  24,  25,\n",
       "        26,  27,  28,  29,  30,  31,  32,  33,  34,  35,  36,  37,  38,\n",
       "        39,  40,  41,  42,  43,  44,  45,  46,  47,  48,  49,  50,  51,\n",
       "        52,  53,  54,  55,  56,  57,  58,  59,  60,  61,  62,  63,  64,\n",
       "        65,  66,  67,  68,  69,  70,  71,  72,  73,  74,  75,  76,  77,\n",
       "        78,  79,  80,  81,  82,  83,  84,  85,  86,  87,  88,  89,  90,\n",
       "        91,  92,  93,  94,  95,  96,  97,  98,  99, 100, 101, 102, 103],\n",
       "      dtype=int64)"
      ]
     },
     "execution_count": 14,
     "metadata": {},
     "output_type": "execute_result"
    }
   ],
   "source": [
    "rating_data['quiz_number'].unique()"
   ]
  },
  {
   "cell_type": "markdown",
   "id": "d404dd5a",
   "metadata": {},
   "source": [
    "Users rate items in (multiple) quizzes of 10 questions each"
   ]
  },
  {
   "cell_type": "code",
   "execution_count": 15,
   "id": "b8fb774f",
   "metadata": {},
   "outputs": [
    {
     "data": {
      "text/plain": [
       "20000"
      ]
     },
     "execution_count": 15,
     "metadata": {},
     "output_type": "execute_result"
    }
   ],
   "source": [
    "len(np.unique(rating_data['user_id']))"
   ]
  },
  {
   "cell_type": "code",
   "execution_count": 16,
   "id": "4150d160",
   "metadata": {},
   "outputs": [
    {
     "data": {
      "text/plain": [
       "user_id\n",
       "13613    1040\n",
       "11786     700\n",
       "15044     610\n",
       "6273      580\n",
       "11460     550\n",
       "5745      540\n",
       "18810     540\n",
       "16398     520\n",
       "10944     520\n",
       "15867     520\n",
       "dtype: int64"
      ]
     },
     "execution_count": 16,
     "metadata": {},
     "output_type": "execute_result"
    }
   ],
   "source": [
    "# finding top 10 users based on ratings \n",
    "\n",
    "most_rated_users = rating_data.groupby('user_id').size().sort_values(ascending=False)[:10]\n",
    "most_rated_users"
   ]
  },
  {
   "cell_type": "code",
   "execution_count": 17,
   "id": "750ad001",
   "metadata": {},
   "outputs": [
    {
     "name": "stdout",
     "output_type": "stream",
     "text": [
      "        user_id  quiz_type  quiz_number  question_number  item_id  rating\n",
      "753040    13613          1            0                0     2276       1\n",
      "753041    13613          1            0                1     1471       1\n",
      "753042    13613          1            0                2     3446       0\n",
      "753043    13613          1            0                3     1258       1\n",
      "753044    13613          1            0                4      381       1\n",
      "...         ...        ...          ...              ...      ...     ...\n",
      "754075    13613          1          103             1035     1406       0\n",
      "754076    13613          1          103             1036     4643       1\n",
      "754077    13613          1          103             1037     1152       0\n",
      "754078    13613          1          103             1038     1582       0\n",
      "754079    13613          1          103             1039      352       0\n",
      "\n",
      "[1040 rows x 6 columns]\n"
     ]
    }
   ],
   "source": [
    "# checking user's (id:13613) purchases and ratings  \n",
    "\n",
    "print(rating_data.loc[rating_data['user_id'].isin([13613])])"
   ]
  },
  {
   "cell_type": "markdown",
   "id": "1f2c9535",
   "metadata": {},
   "source": [
    "***Building a Recommendation model using Surprise Python Library*** "
   ]
  },
  {
   "cell_type": "code",
   "execution_count": 18,
   "id": "723f552c",
   "metadata": {},
   "outputs": [],
   "source": [
    "from surprise import Dataset\n",
    "from surprise import accuracy\n",
    "from surprise import Reader"
   ]
  },
  {
   "cell_type": "code",
   "execution_count": 19,
   "id": "93c0e284",
   "metadata": {},
   "outputs": [],
   "source": [
    "# Reader class used to parse the file containing ratings  \n",
    "# rating scale used for every rating. By default, it is (1,0)\n",
    "\n",
    "# Reading in values as Surprise dataset\n",
    "reader = Reader(rating_scale=(0, 1))"
   ]
  },
  {
   "cell_type": "code",
   "execution_count": 20,
   "id": "a63c1b25",
   "metadata": {},
   "outputs": [],
   "source": [
    "# creating dataframe with features that are useful for building recommendation system:- items, users, ratings\n",
    "\n",
    "rating_data.drop(['quiz_number', 'question_number', 'quiz_type'], axis=1, inplace=True)"
   ]
  },
  {
   "cell_type": "code",
   "execution_count": 21,
   "id": "b5b557ba",
   "metadata": {},
   "outputs": [
    {
     "data": {
      "text/html": [
       "<div>\n",
       "<style scoped>\n",
       "    .dataframe tbody tr th:only-of-type {\n",
       "        vertical-align: middle;\n",
       "    }\n",
       "\n",
       "    .dataframe tbody tr th {\n",
       "        vertical-align: top;\n",
       "    }\n",
       "\n",
       "    .dataframe thead th {\n",
       "        text-align: right;\n",
       "    }\n",
       "</style>\n",
       "<table border=\"1\" class=\"dataframe\">\n",
       "  <thead>\n",
       "    <tr style=\"text-align: right;\">\n",
       "      <th></th>\n",
       "      <th>user_id</th>\n",
       "      <th>item_id</th>\n",
       "      <th>rating</th>\n",
       "    </tr>\n",
       "  </thead>\n",
       "  <tbody>\n",
       "    <tr>\n",
       "      <th>0</th>\n",
       "      <td>0</td>\n",
       "      <td>45</td>\n",
       "      <td>1</td>\n",
       "    </tr>\n",
       "    <tr>\n",
       "      <th>1</th>\n",
       "      <td>0</td>\n",
       "      <td>734</td>\n",
       "      <td>1</td>\n",
       "    </tr>\n",
       "    <tr>\n",
       "      <th>2</th>\n",
       "      <td>0</td>\n",
       "      <td>4145</td>\n",
       "      <td>1</td>\n",
       "    </tr>\n",
       "    <tr>\n",
       "      <th>3</th>\n",
       "      <td>0</td>\n",
       "      <td>3231</td>\n",
       "      <td>0</td>\n",
       "    </tr>\n",
       "    <tr>\n",
       "      <th>4</th>\n",
       "      <td>0</td>\n",
       "      <td>361</td>\n",
       "      <td>1</td>\n",
       "    </tr>\n",
       "  </tbody>\n",
       "</table>\n",
       "</div>"
      ],
      "text/plain": [
       "   user_id  item_id  rating\n",
       "0        0       45       1\n",
       "1        0      734       1\n",
       "2        0     4145       1\n",
       "3        0     3231       0\n",
       "4        0      361       1"
      ]
     },
     "execution_count": 21,
     "metadata": {},
     "output_type": "execute_result"
    }
   ],
   "source": [
    "rating_data.head()"
   ]
  },
  {
   "cell_type": "code",
   "execution_count": 22,
   "id": "c531d00b",
   "metadata": {},
   "outputs": [],
   "source": [
    "data = Dataset.load_from_df(rating_data,reader) "
   ]
  },
  {
   "cell_type": "code",
   "execution_count": 23,
   "id": "b2291846",
   "metadata": {},
   "outputs": [],
   "source": [
    "# splitting the dataset into 80:20 ratio\n",
    "from surprise.model_selection import train_test_split\n",
    "\n",
    "train_data, test_data = train_test_split(data, test_size=0.2, random_state=10)"
   ]
  },
  {
   "cell_type": "code",
   "execution_count": 24,
   "id": "fa317bbd",
   "metadata": {},
   "outputs": [
    {
     "name": "stdout",
     "output_type": "stream",
     "text": [
      "Number of users:  20000 \n",
      "\n",
      "Number of items:  5000\n"
     ]
    }
   ],
   "source": [
    "dataset = data.build_full_trainset()\n",
    "print('Number of users: ',dataset.n_users,'\\n')\n",
    "print('Number of items: ',dataset.n_items)"
   ]
  },
  {
   "cell_type": "code",
   "execution_count": 25,
   "id": "11b9d4f1",
   "metadata": {},
   "outputs": [
    {
     "data": {
      "text/plain": [
       "100000000"
      ]
     },
     "execution_count": 25,
     "metadata": {},
     "output_type": "execute_result"
    }
   ],
   "source": [
    "# checking sparsity of the dataset \n",
    "20000*5000"
   ]
  },
  {
   "cell_type": "code",
   "execution_count": 26,
   "id": "b9ab624b",
   "metadata": {},
   "outputs": [
    {
     "data": {
      "text/plain": [
       "0.0111637"
      ]
     },
     "execution_count": 26,
     "metadata": {},
     "output_type": "execute_result"
    }
   ],
   "source": [
    "1116370/100000000"
   ]
  },
  {
   "cell_type": "markdown",
   "id": "427f1111",
   "metadata": {},
   "source": [
    "### Memory based collaborative filtering (neighbourhood based filtering)"
   ]
  },
  {
   "cell_type": "code",
   "execution_count": 27,
   "id": "6a175b0c",
   "metadata": {},
   "outputs": [],
   "source": [
    "from surprise.prediction_algorithms import knns\n",
    "from surprise.similarities import cosine, msd, pearson\n",
    "from surprise.model_selection import cross_validate\n",
    "from surprise.prediction_algorithms import KNNBasic, KNNWithMeans, KNNBaseline"
   ]
  },
  {
   "cell_type": "code",
   "execution_count": 28,
   "id": "267a5013",
   "metadata": {},
   "outputs": [
    {
     "name": "stdout",
     "output_type": "stream",
     "text": [
      "Computing the cosine similarity matrix...\n"
     ]
    },
    {
     "name": "stderr",
     "output_type": "stream",
     "text": [
      "C:\\Users\\Payel\\anaconda3\\lib\\site-packages\\surprise\\prediction_algorithms\\algo_base.py:249: RuntimeWarning: invalid value encountered in double_scalars\n",
      "  sim = construction_func[name](*args)\n"
     ]
    },
    {
     "name": "stdout",
     "output_type": "stream",
     "text": [
      "Done computing similarity matrix.\n",
      "RMSE: 0.4859\n",
      "0.48587930704382803\n"
     ]
    }
   ],
   "source": [
    "# KNNBasic (using Cosine similarity metric)\n",
    "knn_basic_cos = knns.KNNBasic(sim_options = {'name':'cosine','user_based':False})\n",
    "knn_basic_cos.fit(train_data)\n",
    "predict_data = knn_basic_cos.test(test_data)\n",
    "print(accuracy.rmse(predict_data))"
   ]
  },
  {
   "cell_type": "code",
   "execution_count": 29,
   "id": "27459735",
   "metadata": {},
   "outputs": [
    {
     "name": "stdout",
     "output_type": "stream",
     "text": [
      "Computing the pearson similarity matrix...\n",
      "Done computing similarity matrix.\n",
      "RMSE: 0.5007\n",
      "0.5006569777355337\n"
     ]
    }
   ],
   "source": [
    "#KNNBasic (using Pearson similarity metric)\n",
    "knn_basic_pearson = knns.KNNBasic(sim_options={'name':'pearson','user_based':False})\n",
    "knn_basic_pearson.fit(train_data)\n",
    "predict_data_pearson = knn_basic_pearson.test(test_data)\n",
    "print(accuracy.rmse(predict_data_pearson))"
   ]
  },
  {
   "cell_type": "code",
   "execution_count": 30,
   "id": "d9519af1",
   "metadata": {},
   "outputs": [
    {
     "name": "stdout",
     "output_type": "stream",
     "text": [
      "Computing the cosine similarity matrix...\n",
      "Done computing similarity matrix.\n",
      "RMSE: 0.4458\n",
      "0.4458340199917402\n"
     ]
    }
   ],
   "source": [
    "#KNNwithMeans (using Cosine similarity as it outperformed Pearson)\n",
    "knn_means = knns.KNNWithMeans(sim_options={'name':'cosine','user_based':False})\n",
    "knn_means.fit(train_data)\n",
    "knn_mean_prediction = knn_means.test(test_data)\n",
    "print(accuracy.rmse(knn_mean_prediction))"
   ]
  },
  {
   "cell_type": "code",
   "execution_count": 31,
   "id": "f864d846",
   "metadata": {},
   "outputs": [
    {
     "name": "stdout",
     "output_type": "stream",
     "text": [
      "Estimating biases using als...\n",
      "Computing the cosine similarity matrix...\n",
      "Done computing similarity matrix.\n",
      "RMSE: 0.4461\n",
      "0.44609847385526336\n"
     ]
    }
   ],
   "source": [
    "#KNNBaseline (using Cosine similarity as it outperformed Pearson)\n",
    "knn_baseline = knns.KNNBaseline(sim_options={'name':'cosine','user_based':False})\n",
    "knn_baseline.fit(train_data)\n",
    "knn_baseline_prediction = knn_baseline.test(test_data)\n",
    "print(accuracy.rmse(knn_baseline_prediction))"
   ]
  },
  {
   "cell_type": "markdown",
   "id": "6f6712bd",
   "metadata": {},
   "source": [
    "**As observed from the above statistics, KNNwithMeans using Cosine Similarity is the BEST Memory-based Model** "
   ]
  },
  {
   "cell_type": "markdown",
   "id": "b0c8aaa4",
   "metadata": {},
   "source": [
    "### Model-based Collaborative Filtering"
   ]
  },
  {
   "cell_type": "code",
   "execution_count": 32,
   "id": "39f1aa37",
   "metadata": {},
   "outputs": [],
   "source": [
    "from surprise.model_selection import GridSearchCV\n",
    "from surprise.prediction_algorithms import SVD"
   ]
  },
  {
   "cell_type": "code",
   "execution_count": 33,
   "id": "c7a15454",
   "metadata": {},
   "outputs": [],
   "source": [
    "# n_epochs : number of iteration of the SVD procedure (default: 20)\n",
    "# n_factors : number of factors (default : 20)\n",
    "# lr_all : learning rate of all parameters (default : 0.007)\n",
    "# reg_all : regularization term of all parameters (default: 0.02)\n",
    "# n_jobs : number of processors running parallely (n_jobs : -1 means all processors running)"
   ]
  },
  {
   "cell_type": "code",
   "execution_count": 34,
   "id": "0807b5f8",
   "metadata": {},
   "outputs": [
    {
     "name": "stderr",
     "output_type": "stream",
     "text": [
      "[Parallel(n_jobs=-1)]: Using backend LokyBackend with 8 concurrent workers.\n",
      "[Parallel(n_jobs=-1)]: Done   2 tasks      | elapsed:   16.0s\n",
      "[Parallel(n_jobs=-1)]: Done  56 tasks      | elapsed:  3.4min\n",
      "[Parallel(n_jobs=-1)]: Done  80 out of  80 | elapsed:  5.6min finished\n"
     ]
    },
    {
     "data": {
      "text/plain": [
       "{'rmse': {'n_factors': 20, 'n_epochs': 10, 'lr_all': 0.005, 'reg_all': 0.4},\n",
       " 'mae': {'n_factors': 20, 'n_epochs': 10, 'lr_all': 0.005, 'reg_all': 0.4}}"
      ]
     },
     "execution_count": 34,
     "metadata": {},
     "output_type": "execute_result"
    }
   ],
   "source": [
    "#GridSearch on SVD to try out different parameters to find optimal ones\n",
    "param_grid = {'n_factors':[20,50],'n_epochs': [5, 10], 'lr_all': [0.002, 0.005], 'reg_all': [0.4, 0.6]}\n",
    "gs_model1 = GridSearchCV(SVD, param_grid=param_grid, n_jobs = -1, joblib_verbose=5)\n",
    "gs_model1.fit(data)\n",
    "gs_model1.best_params"
   ]
  },
  {
   "cell_type": "code",
   "execution_count": 35,
   "id": "91cfde23",
   "metadata": {},
   "outputs": [
    {
     "data": {
      "text/plain": [
       "{'rmse': 0.44351247163874274, 'mae': 0.4139396555372053}"
      ]
     },
     "execution_count": 35,
     "metadata": {},
     "output_type": "execute_result"
    }
   ],
   "source": [
    "gs_model1.best_score"
   ]
  },
  {
   "cell_type": "code",
   "execution_count": 36,
   "id": "ca1b633b",
   "metadata": {},
   "outputs": [
    {
     "name": "stderr",
     "output_type": "stream",
     "text": [
      "[Parallel(n_jobs=-1)]: Using backend LokyBackend with 8 concurrent workers.\n",
      "[Parallel(n_jobs=-1)]: Done   2 tasks      | elapsed:   17.0s\n",
      "[Parallel(n_jobs=-1)]: Done  56 tasks      | elapsed:  3.2min\n",
      "[Parallel(n_jobs=-1)]: Done  80 out of  80 | elapsed:  5.0min finished\n"
     ]
    },
    {
     "data": {
      "text/plain": [
       "{'rmse': {'n_factors': 20, 'n_epochs': 10, 'lr_all': 0.005, 'reg_all': 0.2},\n",
       " 'mae': {'n_factors': 20, 'n_epochs': 10, 'lr_all': 0.005, 'reg_all': 0.2}}"
      ]
     },
     "execution_count": 36,
     "metadata": {},
     "output_type": "execute_result"
    }
   ],
   "source": [
    "#GridSearch on SVD with different n_factors and reg_all values \n",
    "param_grid = {'n_factors':[20,30],'n_epochs': [5, 10], 'lr_all': [0.002, 0.005], 'reg_all': [0.2, 0.6]}\n",
    "gs_model2 = GridSearchCV(SVD,param_grid=param_grid,n_jobs = -1,joblib_verbose=5)\n",
    "gs_model2.fit(data)\n",
    "gs_model2.best_params"
   ]
  },
  {
   "cell_type": "code",
   "execution_count": 37,
   "id": "8ff11c4e",
   "metadata": {},
   "outputs": [
    {
     "data": {
      "text/plain": [
       "{'rmse': 0.4406971870435881, 'mae': 0.4017279493855175}"
      ]
     },
     "execution_count": 37,
     "metadata": {},
     "output_type": "execute_result"
    }
   ],
   "source": [
    "gs_model2.best_score"
   ]
  },
  {
   "cell_type": "code",
   "execution_count": 38,
   "id": "5b3aa130",
   "metadata": {},
   "outputs": [
    {
     "name": "stderr",
     "output_type": "stream",
     "text": [
      "[Parallel(n_jobs=-1)]: Using backend LokyBackend with 8 concurrent workers.\n",
      "[Parallel(n_jobs=-1)]: Done   2 tasks      | elapsed:   21.9s\n",
      "[Parallel(n_jobs=-1)]: Done  56 tasks      | elapsed:  4.7min\n",
      "[Parallel(n_jobs=-1)]: Done  80 out of  80 | elapsed:  7.6min finished\n"
     ]
    },
    {
     "data": {
      "text/plain": [
       "{'rmse': {'n_factors': 10, 'n_epochs': 20, 'lr_all': 0.007, 'reg_all': 0.2},\n",
       " 'mae': {'n_factors': 10, 'n_epochs': 20, 'lr_all': 0.007, 'reg_all': 0.2}}"
      ]
     },
     "execution_count": 38,
     "metadata": {},
     "output_type": "execute_result"
    }
   ],
   "source": [
    "#GridSearch on SVD with different n_factors and reg_all values \n",
    "param_grid = {'n_factors':[10,20],'n_epochs': [10, 20], 'lr_all': [0.002, 0.007], 'reg_all': [0.2, 0.4]}\n",
    "gs_model3 = GridSearchCV(SVD,param_grid=param_grid,n_jobs = -1,joblib_verbose=5)\n",
    "gs_model3.fit(data)\n",
    "gs_model3.best_params"
   ]
  },
  {
   "cell_type": "code",
   "execution_count": 39,
   "id": "22a0fafc",
   "metadata": {},
   "outputs": [
    {
     "data": {
      "text/plain": [
       "{'rmse': 0.4398353533783193, 'mae': 0.3977634169618418}"
      ]
     },
     "execution_count": 39,
     "metadata": {},
     "output_type": "execute_result"
    }
   ],
   "source": [
    "gs_model3.best_score"
   ]
  },
  {
   "cell_type": "markdown",
   "id": "86c75064",
   "metadata": {},
   "source": [
    "From the above statistics, it seems that reg_all with value 0.2 and n_factors having lower values such as 10 are the best hyperparameters"
   ]
  },
  {
   "cell_type": "code",
   "execution_count": 40,
   "id": "84e97535",
   "metadata": {},
   "outputs": [
    {
     "name": "stdout",
     "output_type": "stream",
     "text": [
      "RMSE: 0.4432\n",
      "0.4431838047291049\n"
     ]
    }
   ],
   "source": [
    "# 1st SVD prediction on test data \n",
    "# n_factors : 20, reg_all : 0.4\n",
    "\n",
    "svd = SVD(n_factors=20,n_epochs=10,lr_all=0.007,reg_all=0.4)\n",
    "svd.fit(train_data)\n",
    "svd_prediction1 = svd.test(test_data)\n",
    "print(accuracy.rmse(svd_prediction1))"
   ]
  },
  {
   "cell_type": "code",
   "execution_count": 41,
   "id": "a2e8f416",
   "metadata": {},
   "outputs": [
    {
     "name": "stdout",
     "output_type": "stream",
     "text": [
      "RMSE: 0.4403\n",
      "0.4402572837407672\n"
     ]
    }
   ],
   "source": [
    "# 2nd SVD prediction on test data \n",
    "# n_factors : 10, reg_all : 0.2\n",
    "\n",
    "svd = SVD(n_factors=10,n_epochs=10,lr_all=0.007,reg_all=0.2)\n",
    "svd.fit(train_data)\n",
    "svd_prediction2 = svd.test(test_data)\n",
    "print(accuracy.rmse(svd_prediction2))"
   ]
  },
  {
   "cell_type": "code",
   "execution_count": 42,
   "id": "2223af8b",
   "metadata": {},
   "outputs": [
    {
     "name": "stdout",
     "output_type": "stream",
     "text": [
      "RMSE: 0.4403\n",
      "0.44026148689004774\n"
     ]
    }
   ],
   "source": [
    "# 3rd SVD prediction on test data \n",
    "# n_factors : 20, reg_all: 0.2\n",
    "\n",
    "svd = SVD(n_factors=20,n_epochs=10,lr_all=0.007,reg_all=0.2)\n",
    "svd.fit(train_data)\n",
    "prediction3 = svd.test(test_data)\n",
    "print(accuracy.rmse(prediction3))"
   ]
  },
  {
   "cell_type": "markdown",
   "id": "f3bf5444",
   "metadata": {},
   "source": [
    "From the above statistics, we can observe that 2nd SVD with parameters such as n_factors = 10 and reg_all = 0.2 perform the best "
   ]
  },
  {
   "cell_type": "markdown",
   "id": "50875c43",
   "metadata": {},
   "source": [
    "**Model-based Collaborative filtering model has the best performance with the best parameters**"
   ]
  },
  {
   "cell_type": "code",
   "execution_count": 43,
   "id": "f7f0d121",
   "metadata": {},
   "outputs": [
    {
     "data": {
      "text/plain": [
       "[Prediction(uid=16379, iid=4607, r_ui=1.0, est=0.8847156118429663, details={'was_impossible': False}),\n",
       " Prediction(uid=11736, iid=1903, r_ui=0.0, est=0.5017210683167674, details={'was_impossible': False}),\n",
       " Prediction(uid=7130, iid=415, r_ui=0.0, est=0.4982254884306802, details={'was_impossible': False}),\n",
       " Prediction(uid=1660, iid=4950, r_ui=1.0, est=0.5477205355696785, details={'was_impossible': False}),\n",
       " Prediction(uid=17458, iid=1803, r_ui=0.0, est=0.7003975938138152, details={'was_impossible': False}),\n",
       " Prediction(uid=2927, iid=249, r_ui=0.0, est=0.14481086342721763, details={'was_impossible': False}),\n",
       " Prediction(uid=3754, iid=1573, r_ui=1.0, est=0.27141305147239797, details={'was_impossible': False}),\n",
       " Prediction(uid=5982, iid=3231, r_ui=0.0, est=0, details={'was_impossible': False}),\n",
       " Prediction(uid=14038, iid=3147, r_ui=1.0, est=0.6980582976742461, details={'was_impossible': False}),\n",
       " Prediction(uid=15209, iid=1642, r_ui=1.0, est=0.8573688956469839, details={'was_impossible': False}),\n",
       " Prediction(uid=6169, iid=1965, r_ui=1.0, est=0.6109714802608225, details={'was_impossible': False}),\n",
       " Prediction(uid=2860, iid=865, r_ui=1.0, est=0.6641341621574745, details={'was_impossible': False}),\n",
       " Prediction(uid=7406, iid=1251, r_ui=1.0, est=0.2951579623648391, details={'was_impossible': False}),\n",
       " Prediction(uid=16136, iid=4173, r_ui=1.0, est=0.7093745200903312, details={'was_impossible': False}),\n",
       " Prediction(uid=19941, iid=4605, r_ui=1.0, est=0.4479216086560015, details={'was_impossible': False}),\n",
       " Prediction(uid=18592, iid=1500, r_ui=1.0, est=0.6238909184327511, details={'was_impossible': False}),\n",
       " Prediction(uid=15134, iid=3806, r_ui=1.0, est=0.6736501580504911, details={'was_impossible': False}),\n",
       " Prediction(uid=8261, iid=1424, r_ui=0.0, est=0.41854385393503113, details={'was_impossible': False}),\n",
       " Prediction(uid=11458, iid=656, r_ui=1.0, est=0.6862348182233712, details={'was_impossible': False}),\n",
       " Prediction(uid=16739, iid=546, r_ui=0.0, est=0.4110803627735955, details={'was_impossible': False}),\n",
       " Prediction(uid=16036, iid=3269, r_ui=1.0, est=0.8472488690087882, details={'was_impossible': False}),\n",
       " Prediction(uid=12880, iid=1390, r_ui=0.0, est=0.2819412806512276, details={'was_impossible': False}),\n",
       " Prediction(uid=5223, iid=3259, r_ui=1.0, est=0.7010752651644259, details={'was_impossible': False}),\n",
       " Prediction(uid=12427, iid=66, r_ui=1.0, est=0.8144549754266643, details={'was_impossible': False}),\n",
       " Prediction(uid=15084, iid=1930, r_ui=0.0, est=0.5726486632926499, details={'was_impossible': False}),\n",
       " Prediction(uid=15060, iid=1040, r_ui=0.0, est=0.610859529633604, details={'was_impossible': False}),\n",
       " Prediction(uid=15690, iid=14, r_ui=1.0, est=0.5294713430768241, details={'was_impossible': False}),\n",
       " Prediction(uid=10275, iid=403, r_ui=0.0, est=0.49943720739831143, details={'was_impossible': False}),\n",
       " Prediction(uid=18842, iid=3090, r_ui=1.0, est=0.5438915959529536, details={'was_impossible': False}),\n",
       " Prediction(uid=5885, iid=1655, r_ui=0.0, est=0.6398599112226063, details={'was_impossible': False}),\n",
       " Prediction(uid=17644, iid=4872, r_ui=1.0, est=0.5653319498925136, details={'was_impossible': False}),\n",
       " Prediction(uid=2927, iid=2786, r_ui=1.0, est=0.5267219295229534, details={'was_impossible': False}),\n",
       " Prediction(uid=15060, iid=553, r_ui=0.0, est=0.587473146528332, details={'was_impossible': False}),\n",
       " Prediction(uid=8223, iid=583, r_ui=0.0, est=0.2087372442418016, details={'was_impossible': False}),\n",
       " Prediction(uid=15373, iid=4281, r_ui=1.0, est=0.6493151321297909, details={'was_impossible': False}),\n",
       " Prediction(uid=8500, iid=177, r_ui=0.0, est=0.17084656451123567, details={'was_impossible': False}),\n",
       " Prediction(uid=1595, iid=4732, r_ui=0.0, est=0.5340354709448996, details={'was_impossible': False}),\n",
       " Prediction(uid=4696, iid=2303, r_ui=0.0, est=0.2882662259739816, details={'was_impossible': False}),\n",
       " Prediction(uid=12513, iid=276, r_ui=1.0, est=0.6098530010319365, details={'was_impossible': False}),\n",
       " Prediction(uid=5308, iid=2101, r_ui=0.0, est=0.1907463106313614, details={'was_impossible': False}),\n",
       " Prediction(uid=19963, iid=4451, r_ui=0.0, est=0.3346398208249476, details={'was_impossible': False}),\n",
       " Prediction(uid=1417, iid=1008, r_ui=1.0, est=0.5961857047736313, details={'was_impossible': False}),\n",
       " Prediction(uid=19957, iid=1148, r_ui=1.0, est=0.937932802910389, details={'was_impossible': False}),\n",
       " Prediction(uid=16215, iid=4254, r_ui=1.0, est=1, details={'was_impossible': False}),\n",
       " Prediction(uid=14487, iid=3643, r_ui=0.0, est=0.2591102558202009, details={'was_impossible': False}),\n",
       " Prediction(uid=15935, iid=2497, r_ui=0.0, est=0.7099032799534583, details={'was_impossible': False}),\n",
       " Prediction(uid=11060, iid=4823, r_ui=0.0, est=0.4901681316144348, details={'was_impossible': False}),\n",
       " Prediction(uid=3775, iid=2012, r_ui=1.0, est=0.505692775427392, details={'was_impossible': False}),\n",
       " Prediction(uid=5120, iid=792, r_ui=0.0, est=0.3757296640739075, details={'was_impossible': False}),\n",
       " Prediction(uid=11771, iid=4688, r_ui=0.0, est=0.3963179247424427, details={'was_impossible': False}),\n",
       " Prediction(uid=16728, iid=2716, r_ui=1.0, est=0.5595185354429489, details={'was_impossible': False}),\n",
       " Prediction(uid=4264, iid=4225, r_ui=1.0, est=0.6662090871097632, details={'was_impossible': False}),\n",
       " Prediction(uid=7383, iid=3890, r_ui=1.0, est=0.7725123257738455, details={'was_impossible': False}),\n",
       " Prediction(uid=8122, iid=2966, r_ui=1.0, est=0.5372387896191083, details={'was_impossible': False}),\n",
       " Prediction(uid=5200, iid=653, r_ui=1.0, est=0.7079699302720697, details={'was_impossible': False}),\n",
       " Prediction(uid=10991, iid=3757, r_ui=1.0, est=0.5342452523375868, details={'was_impossible': False}),\n",
       " Prediction(uid=7373, iid=600, r_ui=0.0, est=0.16415759110097378, details={'was_impossible': False}),\n",
       " Prediction(uid=3255, iid=4676, r_ui=1.0, est=0.9387423422034518, details={'was_impossible': False}),\n",
       " Prediction(uid=8171, iid=4306, r_ui=1.0, est=0.6363464529661153, details={'was_impossible': False}),\n",
       " Prediction(uid=8208, iid=4583, r_ui=1.0, est=0.5663435225517645, details={'was_impossible': False}),\n",
       " Prediction(uid=8376, iid=1392, r_ui=0.0, est=0.5926147518481112, details={'was_impossible': False}),\n",
       " Prediction(uid=832, iid=3232, r_ui=1.0, est=0.6479868902783956, details={'was_impossible': False}),\n",
       " Prediction(uid=18668, iid=184, r_ui=1.0, est=0.7914284193145354, details={'was_impossible': False}),\n",
       " Prediction(uid=13135, iid=1988, r_ui=0.0, est=0.17845419179403244, details={'was_impossible': False}),\n",
       " Prediction(uid=12124, iid=64, r_ui=0.0, est=0.24560492776137702, details={'was_impossible': False}),\n",
       " Prediction(uid=14308, iid=2717, r_ui=1.0, est=0.7633627237069095, details={'was_impossible': False}),\n",
       " Prediction(uid=10444, iid=1541, r_ui=1.0, est=0.5931688956678025, details={'was_impossible': False}),\n",
       " Prediction(uid=7700, iid=2634, r_ui=0.0, est=0.5759097765245637, details={'was_impossible': False}),\n",
       " Prediction(uid=13869, iid=4765, r_ui=1.0, est=0.7548959746964892, details={'was_impossible': False}),\n",
       " Prediction(uid=4850, iid=148, r_ui=0.0, est=0.4370600087204192, details={'was_impossible': False}),\n",
       " Prediction(uid=14691, iid=3433, r_ui=1.0, est=0.7378850156048877, details={'was_impossible': False}),\n",
       " Prediction(uid=10676, iid=2371, r_ui=0.0, est=0.6734700997597397, details={'was_impossible': False}),\n",
       " Prediction(uid=3031, iid=3833, r_ui=0.0, est=0.4758724033901695, details={'was_impossible': False}),\n",
       " Prediction(uid=13744, iid=3699, r_ui=0.0, est=0.014321468091917564, details={'was_impossible': False}),\n",
       " Prediction(uid=8688, iid=1704, r_ui=1.0, est=0.40684305841324564, details={'was_impossible': False}),\n",
       " Prediction(uid=1927, iid=790, r_ui=0.0, est=0.31304711318442147, details={'was_impossible': False}),\n",
       " Prediction(uid=13012, iid=1843, r_ui=0.0, est=0.31249375293221976, details={'was_impossible': False}),\n",
       " Prediction(uid=6842, iid=2165, r_ui=0.0, est=0.520939073769946, details={'was_impossible': False}),\n",
       " Prediction(uid=10166, iid=819, r_ui=1.0, est=0.5775151673912347, details={'was_impossible': False}),\n",
       " Prediction(uid=18858, iid=1399, r_ui=0.0, est=0.36934870003476233, details={'was_impossible': False}),\n",
       " Prediction(uid=8616, iid=4128, r_ui=1.0, est=0.6240553557626947, details={'was_impossible': False}),\n",
       " Prediction(uid=14679, iid=3579, r_ui=1.0, est=0.5210359758850067, details={'was_impossible': False}),\n",
       " Prediction(uid=5955, iid=1767, r_ui=0.0, est=0.3485270923087365, details={'was_impossible': False}),\n",
       " Prediction(uid=9258, iid=2183, r_ui=0.0, est=0.5596740214169484, details={'was_impossible': False}),\n",
       " Prediction(uid=58, iid=2616, r_ui=1.0, est=0.8612648307562938, details={'was_impossible': False}),\n",
       " Prediction(uid=6742, iid=984, r_ui=0.0, est=0.23432721052953878, details={'was_impossible': False}),\n",
       " Prediction(uid=6666, iid=1119, r_ui=0.0, est=0.5395975343389814, details={'was_impossible': False}),\n",
       " Prediction(uid=14075, iid=3894, r_ui=0.0, est=0.6376933213229837, details={'was_impossible': False}),\n",
       " Prediction(uid=5391, iid=2526, r_ui=0.0, est=0.6520383343274504, details={'was_impossible': False}),\n",
       " Prediction(uid=9361, iid=688, r_ui=0.0, est=0.13606994547836038, details={'was_impossible': False}),\n",
       " Prediction(uid=15154, iid=3265, r_ui=0.0, est=0.3010541005480965, details={'was_impossible': False}),\n",
       " Prediction(uid=4195, iid=2345, r_ui=0.0, est=0.8502734578816676, details={'was_impossible': False}),\n",
       " Prediction(uid=785, iid=2663, r_ui=0.0, est=0.572370881500139, details={'was_impossible': False}),\n",
       " Prediction(uid=5585, iid=4365, r_ui=1.0, est=0.7094362020972198, details={'was_impossible': False}),\n",
       " Prediction(uid=10161, iid=1370, r_ui=1.0, est=0.7889478719707972, details={'was_impossible': False}),\n",
       " Prediction(uid=16563, iid=4703, r_ui=0.0, est=0.42217416029635, details={'was_impossible': False}),\n",
       " Prediction(uid=12468, iid=1429, r_ui=0.0, est=0.3920070949453178, details={'was_impossible': False}),\n",
       " Prediction(uid=8312, iid=1439, r_ui=0.0, est=0.6138062126987592, details={'was_impossible': False}),\n",
       " Prediction(uid=7668, iid=4873, r_ui=0.0, est=0.44316200924119864, details={'was_impossible': False}),\n",
       " Prediction(uid=10779, iid=4799, r_ui=0.0, est=0.5773168859085922, details={'was_impossible': False}),\n",
       " Prediction(uid=1421, iid=2799, r_ui=1.0, est=0.42095241391225324, details={'was_impossible': False}),\n",
       " Prediction(uid=3492, iid=2051, r_ui=0.0, est=0.6253288608439707, details={'was_impossible': False}),\n",
       " Prediction(uid=18283, iid=1787, r_ui=0.0, est=0.9331768341602115, details={'was_impossible': False}),\n",
       " Prediction(uid=7521, iid=428, r_ui=0.0, est=0.23427318536907735, details={'was_impossible': False}),\n",
       " Prediction(uid=4586, iid=3496, r_ui=1.0, est=0.7533704503682359, details={'was_impossible': False}),\n",
       " Prediction(uid=6880, iid=917, r_ui=0.0, est=0.5299371858595092, details={'was_impossible': False}),\n",
       " Prediction(uid=2336, iid=3254, r_ui=1.0, est=0.4152521939382472, details={'was_impossible': False}),\n",
       " Prediction(uid=18171, iid=595, r_ui=1.0, est=0.8799873075394999, details={'was_impossible': False}),\n",
       " Prediction(uid=9424, iid=1832, r_ui=1.0, est=0.7284149170906067, details={'was_impossible': False}),\n",
       " Prediction(uid=8752, iid=1050, r_ui=1.0, est=0.6672373225890874, details={'was_impossible': False}),\n",
       " Prediction(uid=8518, iid=686, r_ui=1.0, est=0.840391155410725, details={'was_impossible': False}),\n",
       " Prediction(uid=7155, iid=2720, r_ui=1.0, est=0.8385051921133535, details={'was_impossible': False}),\n",
       " Prediction(uid=13395, iid=4356, r_ui=0.0, est=0.7144010375582067, details={'was_impossible': False}),\n",
       " Prediction(uid=15867, iid=144, r_ui=1.0, est=0.8436752418169396, details={'was_impossible': False}),\n",
       " Prediction(uid=13296, iid=1384, r_ui=0.0, est=0.6865056650275833, details={'was_impossible': False}),\n",
       " Prediction(uid=19035, iid=1090, r_ui=0.0, est=0.39143369221952473, details={'was_impossible': False}),\n",
       " Prediction(uid=14662, iid=1454, r_ui=0.0, est=0.7592988232743809, details={'was_impossible': False}),\n",
       " Prediction(uid=3808, iid=354, r_ui=1.0, est=0.6566887651743861, details={'was_impossible': False}),\n",
       " Prediction(uid=8071, iid=2509, r_ui=1.0, est=0.6995806255313556, details={'was_impossible': False}),\n",
       " Prediction(uid=5234, iid=4979, r_ui=1.0, est=0.4249957671320189, details={'was_impossible': False}),\n",
       " Prediction(uid=11275, iid=4955, r_ui=0.0, est=0.5751899286707298, details={'was_impossible': False}),\n",
       " Prediction(uid=5344, iid=2158, r_ui=1.0, est=0.7959161923062867, details={'was_impossible': False}),\n",
       " Prediction(uid=6154, iid=929, r_ui=1.0, est=0.7949665352913892, details={'was_impossible': False}),\n",
       " Prediction(uid=19640, iid=4398, r_ui=1.0, est=0.6171422944856997, details={'was_impossible': False}),\n",
       " Prediction(uid=6927, iid=1049, r_ui=1.0, est=0.4736409238627816, details={'was_impossible': False}),\n",
       " Prediction(uid=12952, iid=749, r_ui=1.0, est=0.681313407871848, details={'was_impossible': False}),\n",
       " Prediction(uid=17710, iid=2133, r_ui=1.0, est=0.8299029765750844, details={'was_impossible': False}),\n",
       " Prediction(uid=7904, iid=2249, r_ui=1.0, est=0.7366201089767189, details={'was_impossible': False}),\n",
       " Prediction(uid=18907, iid=57, r_ui=0.0, est=0.2925430401200888, details={'was_impossible': False}),\n",
       " Prediction(uid=8597, iid=1093, r_ui=1.0, est=0.8363019519471958, details={'was_impossible': False}),\n",
       " Prediction(uid=5072, iid=686, r_ui=1.0, est=0.6873192690087643, details={'was_impossible': False}),\n",
       " Prediction(uid=5757, iid=726, r_ui=1.0, est=0.47385839857728873, details={'was_impossible': False}),\n",
       " Prediction(uid=3544, iid=4032, r_ui=1.0, est=0.6647469196590459, details={'was_impossible': False}),\n",
       " Prediction(uid=12087, iid=89, r_ui=1.0, est=0.8776342763392718, details={'was_impossible': False}),\n",
       " Prediction(uid=13559, iid=1755, r_ui=1.0, est=0.7559545433968543, details={'was_impossible': False}),\n",
       " Prediction(uid=18299, iid=4046, r_ui=1.0, est=0.7655280502874796, details={'was_impossible': False}),\n",
       " Prediction(uid=14109, iid=2511, r_ui=1.0, est=0.8362222638293133, details={'was_impossible': False}),\n",
       " Prediction(uid=12543, iid=444, r_ui=0.0, est=0.6073279739999242, details={'was_impossible': False}),\n",
       " Prediction(uid=2289, iid=2598, r_ui=0.0, est=0.24713668684318912, details={'was_impossible': False}),\n",
       " Prediction(uid=13821, iid=1525, r_ui=0.0, est=0.6915585354594451, details={'was_impossible': False}),\n",
       " Prediction(uid=10685, iid=1480, r_ui=0.0, est=0.29883651300699193, details={'was_impossible': False}),\n",
       " Prediction(uid=2355, iid=3396, r_ui=1.0, est=0.6884657757381881, details={'was_impossible': False}),\n",
       " Prediction(uid=15766, iid=4006, r_ui=1.0, est=0.46991690982090767, details={'was_impossible': False}),\n",
       " Prediction(uid=7779, iid=4779, r_ui=0.0, est=0.44960607757033777, details={'was_impossible': False}),\n",
       " Prediction(uid=15191, iid=509, r_ui=0.0, est=0.4981350286206916, details={'was_impossible': False}),\n",
       " Prediction(uid=8623, iid=2243, r_ui=1.0, est=0.6983487694328467, details={'was_impossible': False}),\n",
       " Prediction(uid=13997, iid=4103, r_ui=1.0, est=0.541611377054774, details={'was_impossible': False}),\n",
       " Prediction(uid=2774, iid=371, r_ui=0.0, est=0.5424923190966647, details={'was_impossible': False}),\n",
       " Prediction(uid=18971, iid=290, r_ui=1.0, est=0.5362759010184531, details={'was_impossible': False}),\n",
       " Prediction(uid=17895, iid=199, r_ui=1.0, est=0.45840826920603417, details={'was_impossible': False}),\n",
       " Prediction(uid=17589, iid=104, r_ui=1.0, est=0.7446924262343988, details={'was_impossible': False}),\n",
       " Prediction(uid=16075, iid=1445, r_ui=1.0, est=0.38803565236642, details={'was_impossible': False}),\n",
       " Prediction(uid=16629, iid=214, r_ui=0.0, est=0.6650370124295896, details={'was_impossible': False}),\n",
       " Prediction(uid=6684, iid=747, r_ui=1.0, est=0.7124134713935277, details={'was_impossible': False}),\n",
       " Prediction(uid=16408, iid=585, r_ui=1.0, est=0.7001278286980827, details={'was_impossible': False}),\n",
       " Prediction(uid=3887, iid=4892, r_ui=0.0, est=0.7314562885761039, details={'was_impossible': False}),\n",
       " Prediction(uid=12688, iid=1659, r_ui=0.0, est=0.6014276003640503, details={'was_impossible': False}),\n",
       " Prediction(uid=1307, iid=2471, r_ui=0.0, est=0.5985383112541066, details={'was_impossible': False}),\n",
       " Prediction(uid=5118, iid=2089, r_ui=1.0, est=0.7657965898220487, details={'was_impossible': False}),\n",
       " Prediction(uid=8623, iid=1397, r_ui=1.0, est=0.786720491871865, details={'was_impossible': False}),\n",
       " Prediction(uid=16650, iid=1933, r_ui=0.0, est=0.4436789798159098, details={'was_impossible': False}),\n",
       " Prediction(uid=649, iid=840, r_ui=0.0, est=0.8941741581240338, details={'was_impossible': False}),\n",
       " Prediction(uid=13629, iid=1004, r_ui=1.0, est=0.5301581324139837, details={'was_impossible': False}),\n",
       " Prediction(uid=1258, iid=291, r_ui=0.0, est=0.6860275710823317, details={'was_impossible': False}),\n",
       " Prediction(uid=15624, iid=4557, r_ui=0.0, est=0.6940405187089088, details={'was_impossible': False}),\n",
       " Prediction(uid=12327, iid=3314, r_ui=1.0, est=0.7966957712611563, details={'was_impossible': False}),\n",
       " Prediction(uid=10129, iid=2235, r_ui=1.0, est=0.5292300426394576, details={'was_impossible': False}),\n",
       " Prediction(uid=2669, iid=4276, r_ui=0.0, est=0.4592517620267948, details={'was_impossible': False}),\n",
       " Prediction(uid=5851, iid=3186, r_ui=1.0, est=0.5401517026728834, details={'was_impossible': False}),\n",
       " Prediction(uid=16185, iid=55, r_ui=1.0, est=0.8438755822697095, details={'was_impossible': False}),\n",
       " Prediction(uid=882, iid=504, r_ui=0.0, est=0.2884878625197273, details={'was_impossible': False}),\n",
       " Prediction(uid=11715, iid=1581, r_ui=0.0, est=0.40273093767770035, details={'was_impossible': False}),\n",
       " Prediction(uid=11866, iid=2550, r_ui=1.0, est=0.46698611026021575, details={'was_impossible': False}),\n",
       " Prediction(uid=16036, iid=1759, r_ui=0.0, est=0.4773987988327863, details={'was_impossible': False}),\n",
       " Prediction(uid=7554, iid=3392, r_ui=1.0, est=0.7255194720151438, details={'was_impossible': False}),\n",
       " Prediction(uid=3449, iid=985, r_ui=1.0, est=0.5453396099687351, details={'was_impossible': False}),\n",
       " Prediction(uid=9085, iid=1421, r_ui=0.0, est=0.32945620050844754, details={'was_impossible': False}),\n",
       " Prediction(uid=9990, iid=4229, r_ui=0.0, est=0.6487684876410533, details={'was_impossible': False}),\n",
       " Prediction(uid=1841, iid=4865, r_ui=1.0, est=0.5221432845074263, details={'was_impossible': False}),\n",
       " Prediction(uid=14264, iid=4335, r_ui=1.0, est=0.8077656161462989, details={'was_impossible': False}),\n",
       " Prediction(uid=9416, iid=3160, r_ui=1.0, est=0.5244310715347102, details={'was_impossible': False}),\n",
       " Prediction(uid=4926, iid=1074, r_ui=0.0, est=0.6044944353159099, details={'was_impossible': False}),\n",
       " Prediction(uid=18577, iid=1678, r_ui=0.0, est=0.6381714591188212, details={'was_impossible': False}),\n",
       " Prediction(uid=3577, iid=4566, r_ui=1.0, est=0.6584108397463057, details={'was_impossible': False}),\n",
       " Prediction(uid=12261, iid=2295, r_ui=1.0, est=0.6436972347909904, details={'was_impossible': False}),\n",
       " Prediction(uid=10120, iid=519, r_ui=1.0, est=0.5275308906602619, details={'was_impossible': False}),\n",
       " Prediction(uid=1283, iid=4187, r_ui=0.0, est=0.5333769951639424, details={'was_impossible': False}),\n",
       " Prediction(uid=19484, iid=1530, r_ui=1.0, est=0.5476508310686814, details={'was_impossible': False}),\n",
       " Prediction(uid=10708, iid=2006, r_ui=0.0, est=0.4869420401481552, details={'was_impossible': False}),\n",
       " Prediction(uid=17359, iid=4170, r_ui=1.0, est=0.5688037650718802, details={'was_impossible': False}),\n",
       " Prediction(uid=13497, iid=1744, r_ui=0.0, est=0.799994963104853, details={'was_impossible': False}),\n",
       " Prediction(uid=19794, iid=4389, r_ui=1.0, est=0.43004706785364083, details={'was_impossible': False}),\n",
       " Prediction(uid=19677, iid=3303, r_ui=1.0, est=0.7462467905050282, details={'was_impossible': False}),\n",
       " Prediction(uid=19714, iid=3314, r_ui=1.0, est=0.7712538591643024, details={'was_impossible': False}),\n",
       " Prediction(uid=5228, iid=4990, r_ui=0.0, est=0.5710020110031633, details={'was_impossible': False}),\n",
       " Prediction(uid=14445, iid=4895, r_ui=1.0, est=0.6068775538571276, details={'was_impossible': False}),\n",
       " Prediction(uid=12701, iid=4792, r_ui=0.0, est=0.2472917474272411, details={'was_impossible': False}),\n",
       " Prediction(uid=18883, iid=4690, r_ui=1.0, est=0.5144547153122004, details={'was_impossible': False}),\n",
       " Prediction(uid=10627, iid=712, r_ui=0.0, est=0.09722700772108304, details={'was_impossible': False}),\n",
       " Prediction(uid=1797, iid=4042, r_ui=0.0, est=0.36308324593426855, details={'was_impossible': False}),\n",
       " Prediction(uid=2562, iid=4470, r_ui=1.0, est=0.6126349581573609, details={'was_impossible': False}),\n",
       " Prediction(uid=6685, iid=3364, r_ui=1.0, est=0.4306677526961595, details={'was_impossible': False}),\n",
       " Prediction(uid=1338, iid=1177, r_ui=1.0, est=0.1957006828690391, details={'was_impossible': False}),\n",
       " Prediction(uid=19868, iid=2008, r_ui=1.0, est=0.7538432096531452, details={'was_impossible': False}),\n",
       " Prediction(uid=7260, iid=1, r_ui=1.0, est=0.29087933298828555, details={'was_impossible': False}),\n",
       " Prediction(uid=13895, iid=4411, r_ui=0.0, est=0.28270557155735687, details={'was_impossible': False}),\n",
       " Prediction(uid=14787, iid=794, r_ui=1.0, est=0.5152458649330695, details={'was_impossible': False}),\n",
       " Prediction(uid=7685, iid=1989, r_ui=0.0, est=0.5145439307681315, details={'was_impossible': False}),\n",
       " Prediction(uid=5209, iid=3383, r_ui=0.0, est=0.5243189864195474, details={'was_impossible': False}),\n",
       " Prediction(uid=3842, iid=1428, r_ui=0.0, est=0.4345336457705286, details={'was_impossible': False}),\n",
       " Prediction(uid=12622, iid=2048, r_ui=1.0, est=0.695280326071662, details={'was_impossible': False}),\n",
       " Prediction(uid=7589, iid=1844, r_ui=1.0, est=0.5858055148813199, details={'was_impossible': False}),\n",
       " Prediction(uid=15873, iid=2043, r_ui=0.0, est=0.2428282693562591, details={'was_impossible': False}),\n",
       " Prediction(uid=14671, iid=380, r_ui=1.0, est=0.32648419457075534, details={'was_impossible': False}),\n",
       " Prediction(uid=7497, iid=2133, r_ui=1.0, est=0.6491054418507162, details={'was_impossible': False}),\n",
       " Prediction(uid=3712, iid=2429, r_ui=0.0, est=0.4666523435998566, details={'was_impossible': False}),\n",
       " Prediction(uid=15622, iid=2235, r_ui=0.0, est=0.15085771164507922, details={'was_impossible': False}),\n",
       " Prediction(uid=16245, iid=3941, r_ui=0.0, est=0.35178765961973263, details={'was_impossible': False}),\n",
       " Prediction(uid=15063, iid=4140, r_ui=0.0, est=0.755509598945993, details={'was_impossible': False}),\n",
       " Prediction(uid=2367, iid=2265, r_ui=1.0, est=0.6584730128325514, details={'was_impossible': False}),\n",
       " Prediction(uid=1920, iid=2694, r_ui=1.0, est=0.6356142202908219, details={'was_impossible': False}),\n",
       " Prediction(uid=17323, iid=960, r_ui=0.0, est=0.7307837408967244, details={'was_impossible': False}),\n",
       " Prediction(uid=8360, iid=1033, r_ui=0.0, est=0.4094888209352336, details={'was_impossible': False}),\n",
       " Prediction(uid=10559, iid=2968, r_ui=0.0, est=0.6192155709880098, details={'was_impossible': False}),\n",
       " Prediction(uid=6511, iid=1605, r_ui=0.0, est=0.33971666792064176, details={'was_impossible': False}),\n",
       " Prediction(uid=3855, iid=2197, r_ui=1.0, est=0.5307588327160885, details={'was_impossible': False}),\n",
       " Prediction(uid=13913, iid=2436, r_ui=1.0, est=0.661373068836349, details={'was_impossible': False}),\n",
       " Prediction(uid=17399, iid=2505, r_ui=0.0, est=0.2785169728134771, details={'was_impossible': False}),\n",
       " Prediction(uid=16247, iid=3895, r_ui=1.0, est=0.639249585714088, details={'was_impossible': False}),\n",
       " Prediction(uid=1284, iid=4722, r_ui=0.0, est=0.21163755488919284, details={'was_impossible': False}),\n",
       " Prediction(uid=13600, iid=3516, r_ui=1.0, est=0.799061546828902, details={'was_impossible': False}),\n",
       " Prediction(uid=12879, iid=210, r_ui=1.0, est=0.5361716518743026, details={'was_impossible': False}),\n",
       " Prediction(uid=8833, iid=4040, r_ui=0.0, est=0.4147691233229546, details={'was_impossible': False}),\n",
       " Prediction(uid=12273, iid=1614, r_ui=1.0, est=0.5610135652547052, details={'was_impossible': False}),\n",
       " Prediction(uid=15107, iid=2876, r_ui=1.0, est=0.41551535046436705, details={'was_impossible': False}),\n",
       " Prediction(uid=67, iid=1871, r_ui=0.0, est=0.4019706953572232, details={'was_impossible': False}),\n",
       " Prediction(uid=16143, iid=1821, r_ui=0.0, est=0.5433229634505425, details={'was_impossible': False}),\n",
       " Prediction(uid=5784, iid=2796, r_ui=0.0, est=0.5449291757963816, details={'was_impossible': False}),\n",
       " Prediction(uid=14161, iid=1267, r_ui=1.0, est=0.899902759957546, details={'was_impossible': False}),\n",
       " Prediction(uid=18402, iid=1610, r_ui=1.0, est=0.8710272111229961, details={'was_impossible': False}),\n",
       " Prediction(uid=15867, iid=3662, r_ui=1.0, est=0.7293786740153957, details={'was_impossible': False}),\n",
       " Prediction(uid=19422, iid=3864, r_ui=0.0, est=0.4948737762286159, details={'was_impossible': False}),\n",
       " Prediction(uid=1233, iid=4183, r_ui=1.0, est=0.7467676920814225, details={'was_impossible': False}),\n",
       " Prediction(uid=7819, iid=4113, r_ui=0.0, est=0.4427578309242776, details={'was_impossible': False}),\n",
       " Prediction(uid=19825, iid=4906, r_ui=0.0, est=0.765196179307119, details={'was_impossible': False}),\n",
       " Prediction(uid=11417, iid=1014, r_ui=0.0, est=0.4480242731604213, details={'was_impossible': False}),\n",
       " Prediction(uid=8154, iid=2158, r_ui=1.0, est=0.8008837811449623, details={'was_impossible': False}),\n",
       " Prediction(uid=19625, iid=1336, r_ui=1.0, est=0.7038727563460008, details={'was_impossible': False}),\n",
       " Prediction(uid=3720, iid=1601, r_ui=0.0, est=0.6555224998424415, details={'was_impossible': False}),\n",
       " Prediction(uid=15426, iid=2682, r_ui=0.0, est=0.2590133636387573, details={'was_impossible': False}),\n",
       " Prediction(uid=19721, iid=8, r_ui=0.0, est=0.6399812877156527, details={'was_impossible': False}),\n",
       " Prediction(uid=7890, iid=1656, r_ui=1.0, est=0.4341236629906224, details={'was_impossible': False}),\n",
       " Prediction(uid=6108, iid=2838, r_ui=0.0, est=0.23696266184475379, details={'was_impossible': False}),\n",
       " Prediction(uid=1862, iid=1691, r_ui=1.0, est=0.36371300662859024, details={'was_impossible': False}),\n",
       " Prediction(uid=9650, iid=4428, r_ui=0.0, est=0.33753279799153335, details={'was_impossible': False}),\n",
       " Prediction(uid=12427, iid=2368, r_ui=1.0, est=0.5665249676413896, details={'was_impossible': False}),\n",
       " Prediction(uid=8921, iid=2647, r_ui=0.0, est=0.6266035469666699, details={'was_impossible': False}),\n",
       " Prediction(uid=5473, iid=472, r_ui=1.0, est=0.5934661909889181, details={'was_impossible': False}),\n",
       " Prediction(uid=10161, iid=45, r_ui=1.0, est=0.5748639714348949, details={'was_impossible': False}),\n",
       " Prediction(uid=16739, iid=2993, r_ui=1.0, est=0.7534040198797348, details={'was_impossible': False}),\n",
       " Prediction(uid=5412, iid=4613, r_ui=0.0, est=0.4748533489393724, details={'was_impossible': False}),\n",
       " Prediction(uid=15262, iid=1824, r_ui=1.0, est=0.661969690830023, details={'was_impossible': False}),\n",
       " Prediction(uid=1882, iid=3709, r_ui=1.0, est=0.8435148636386035, details={'was_impossible': False}),\n",
       " Prediction(uid=12584, iid=3053, r_ui=0.0, est=0.5374840316989113, details={'was_impossible': False}),\n",
       " Prediction(uid=6588, iid=549, r_ui=1.0, est=0.45354510872126086, details={'was_impossible': False}),\n",
       " Prediction(uid=13062, iid=1220, r_ui=0.0, est=0.5341750155791254, details={'was_impossible': False}),\n",
       " Prediction(uid=7887, iid=4292, r_ui=1.0, est=0.3525167821545491, details={'was_impossible': False}),\n",
       " Prediction(uid=15972, iid=1824, r_ui=1.0, est=0.5589083756450917, details={'was_impossible': False}),\n",
       " Prediction(uid=7105, iid=4857, r_ui=0.0, est=0.19093699457450392, details={'was_impossible': False}),\n",
       " Prediction(uid=19685, iid=4837, r_ui=0.0, est=0.6316560080878234, details={'was_impossible': False}),\n",
       " Prediction(uid=4946, iid=1712, r_ui=0.0, est=0.6195230361843581, details={'was_impossible': False}),\n",
       " Prediction(uid=4363, iid=560, r_ui=0.0, est=0.5710046924895463, details={'was_impossible': False}),\n",
       " Prediction(uid=5667, iid=443, r_ui=1.0, est=0.5314280196375084, details={'was_impossible': False}),\n",
       " Prediction(uid=6495, iid=1732, r_ui=0.0, est=0.5818319271489018, details={'was_impossible': False}),\n",
       " Prediction(uid=10220, iid=2465, r_ui=1.0, est=0.8343239787470081, details={'was_impossible': False}),\n",
       " Prediction(uid=5998, iid=1063, r_ui=1.0, est=0.6236748243195785, details={'was_impossible': False}),\n",
       " Prediction(uid=8986, iid=4184, r_ui=1.0, est=0.7131497403705875, details={'was_impossible': False}),\n",
       " Prediction(uid=1332, iid=3817, r_ui=0.0, est=0.46863894241341836, details={'was_impossible': False}),\n",
       " Prediction(uid=11128, iid=2889, r_ui=0.0, est=0.4495978689365246, details={'was_impossible': False}),\n",
       " Prediction(uid=588, iid=4727, r_ui=0.0, est=0.7015442927448479, details={'was_impossible': False}),\n",
       " Prediction(uid=11855, iid=2390, r_ui=1.0, est=0.5704501668164913, details={'was_impossible': False}),\n",
       " Prediction(uid=16687, iid=735, r_ui=0.0, est=0.520821129961027, details={'was_impossible': False}),\n",
       " Prediction(uid=4986, iid=3462, r_ui=0.0, est=0.501088638215446, details={'was_impossible': False}),\n",
       " Prediction(uid=2796, iid=1582, r_ui=0.0, est=0.42874751226401486, details={'was_impossible': False}),\n",
       " Prediction(uid=3258, iid=2884, r_ui=1.0, est=0.4546847161969994, details={'was_impossible': False}),\n",
       " Prediction(uid=18892, iid=4087, r_ui=0.0, est=0.6323134379350566, details={'was_impossible': False}),\n",
       " Prediction(uid=13633, iid=2059, r_ui=1.0, est=0.35678755936176876, details={'was_impossible': False}),\n",
       " Prediction(uid=10467, iid=31, r_ui=1.0, est=0.830934793759376, details={'was_impossible': False}),\n",
       " Prediction(uid=10002, iid=2133, r_ui=1.0, est=0.6948861840622464, details={'was_impossible': False}),\n",
       " Prediction(uid=19306, iid=212, r_ui=0.0, est=0.739054337614057, details={'was_impossible': False}),\n",
       " Prediction(uid=13115, iid=4163, r_ui=1.0, est=0.5293526203973147, details={'was_impossible': False}),\n",
       " Prediction(uid=16498, iid=4358, r_ui=0.0, est=0.5238579806870552, details={'was_impossible': False}),\n",
       " Prediction(uid=17114, iid=4642, r_ui=1.0, est=0.7900488614669231, details={'was_impossible': False}),\n",
       " Prediction(uid=10098, iid=1038, r_ui=1.0, est=0.6219814794218336, details={'was_impossible': False}),\n",
       " Prediction(uid=5604, iid=243, r_ui=1.0, est=0.6526437090953007, details={'was_impossible': False}),\n",
       " Prediction(uid=8533, iid=4137, r_ui=1.0, est=0.3023081052833069, details={'was_impossible': False}),\n",
       " Prediction(uid=13844, iid=1540, r_ui=1.0, est=0.7873195832576114, details={'was_impossible': False}),\n",
       " Prediction(uid=3369, iid=3885, r_ui=1.0, est=0.5353712318603221, details={'was_impossible': False}),\n",
       " Prediction(uid=994, iid=2349, r_ui=1.0, est=0.30222695129473875, details={'was_impossible': False}),\n",
       " Prediction(uid=9667, iid=1217, r_ui=0.0, est=0.5061734010473726, details={'was_impossible': False}),\n",
       " Prediction(uid=2772, iid=2169, r_ui=1.0, est=0.45267405442515507, details={'was_impossible': False}),\n",
       " Prediction(uid=17878, iid=2017, r_ui=1.0, est=0.8359891658423089, details={'was_impossible': False}),\n",
       " Prediction(uid=17308, iid=560, r_ui=1.0, est=0.7528913175757616, details={'was_impossible': False}),\n",
       " Prediction(uid=5642, iid=777, r_ui=0.0, est=0.3321732160749934, details={'was_impossible': False}),\n",
       " Prediction(uid=662, iid=1375, r_ui=0.0, est=0.5638859611466115, details={'was_impossible': False}),\n",
       " Prediction(uid=15838, iid=4508, r_ui=1.0, est=0.7073271460494231, details={'was_impossible': False}),\n",
       " Prediction(uid=2427, iid=1306, r_ui=0.0, est=0.5311196397878731, details={'was_impossible': False}),\n",
       " Prediction(uid=4176, iid=1097, r_ui=1.0, est=0.613604724530642, details={'was_impossible': False}),\n",
       " Prediction(uid=19758, iid=1514, r_ui=0.0, est=0.5589290147578597, details={'was_impossible': False}),\n",
       " Prediction(uid=2949, iid=1398, r_ui=1.0, est=0.8808639536773947, details={'was_impossible': False}),\n",
       " Prediction(uid=14997, iid=1470, r_ui=0.0, est=0.4369794899143783, details={'was_impossible': False}),\n",
       " Prediction(uid=7217, iid=2504, r_ui=0.0, est=0.6576403460853893, details={'was_impossible': False}),\n",
       " Prediction(uid=14575, iid=1530, r_ui=0.0, est=0.6580328680211597, details={'was_impossible': False}),\n",
       " Prediction(uid=19591, iid=463, r_ui=1.0, est=0.9550292593711918, details={'was_impossible': False}),\n",
       " Prediction(uid=10344, iid=2065, r_ui=1.0, est=0.7037887022891905, details={'was_impossible': False}),\n",
       " Prediction(uid=8197, iid=71, r_ui=0.0, est=0.29777785297745374, details={'was_impossible': False}),\n",
       " Prediction(uid=11415, iid=1470, r_ui=1.0, est=0.8124342684206827, details={'was_impossible': False}),\n",
       " Prediction(uid=4030, iid=2338, r_ui=1.0, est=0.8053285516755961, details={'was_impossible': False}),\n",
       " Prediction(uid=2150, iid=3389, r_ui=0.0, est=0.516195362640361, details={'was_impossible': False}),\n",
       " Prediction(uid=15060, iid=2441, r_ui=1.0, est=0.6595062904627248, details={'was_impossible': False}),\n",
       " Prediction(uid=12203, iid=3396, r_ui=1.0, est=0.7838465872036517, details={'was_impossible': False}),\n",
       " Prediction(uid=11609, iid=1399, r_ui=1.0, est=0.7783160317539286, details={'was_impossible': False}),\n",
       " Prediction(uid=15800, iid=1824, r_ui=0.0, est=0.3285842273037416, details={'was_impossible': False}),\n",
       " Prediction(uid=11573, iid=1863, r_ui=0.0, est=0.2662075435703925, details={'was_impossible': False}),\n",
       " Prediction(uid=15042, iid=4296, r_ui=1.0, est=0.6636229682751491, details={'was_impossible': False}),\n",
       " Prediction(uid=2592, iid=2496, r_ui=0.0, est=0.14718276205432615, details={'was_impossible': False}),\n",
       " Prediction(uid=16644, iid=4188, r_ui=0.0, est=0.4729659104118461, details={'was_impossible': False}),\n",
       " Prediction(uid=4, iid=2690, r_ui=0.0, est=0.59721412671526, details={'was_impossible': False}),\n",
       " Prediction(uid=18925, iid=2266, r_ui=1.0, est=0.8391538841810403, details={'was_impossible': False}),\n",
       " Prediction(uid=1022, iid=1655, r_ui=0.0, est=0.5030562290031649, details={'was_impossible': False}),\n",
       " Prediction(uid=4297, iid=3801, r_ui=1.0, est=0.3570776606625741, details={'was_impossible': False}),\n",
       " Prediction(uid=2975, iid=719, r_ui=0.0, est=0.5336674884179292, details={'was_impossible': False}),\n",
       " Prediction(uid=18141, iid=442, r_ui=1.0, est=0.3442059698243242, details={'was_impossible': False}),\n",
       " Prediction(uid=13029, iid=2946, r_ui=0.0, est=0.5916283221821592, details={'was_impossible': False}),\n",
       " Prediction(uid=19730, iid=20, r_ui=1.0, est=0.5111764634869004, details={'was_impossible': False}),\n",
       " Prediction(uid=19072, iid=2605, r_ui=1.0, est=0.6056870956448681, details={'was_impossible': False}),\n",
       " Prediction(uid=16053, iid=2126, r_ui=1.0, est=0.7586802750207501, details={'was_impossible': False}),\n",
       " Prediction(uid=8197, iid=1417, r_ui=0.0, est=0.5868990718934721, details={'was_impossible': False}),\n",
       " Prediction(uid=12742, iid=1588, r_ui=0.0, est=0.3747712751400568, details={'was_impossible': False}),\n",
       " Prediction(uid=14513, iid=3596, r_ui=1.0, est=0.5690155685119483, details={'was_impossible': False}),\n",
       " Prediction(uid=9715, iid=3790, r_ui=1.0, est=0.724414507550972, details={'was_impossible': False}),\n",
       " Prediction(uid=1162, iid=354, r_ui=0.0, est=0.4106549462536886, details={'was_impossible': False}),\n",
       " Prediction(uid=3798, iid=1204, r_ui=1.0, est=0.7521210175951882, details={'was_impossible': False}),\n",
       " Prediction(uid=4133, iid=4159, r_ui=0.0, est=0.5566871922430531, details={'was_impossible': False}),\n",
       " Prediction(uid=16086, iid=4151, r_ui=1.0, est=0.5795458502597947, details={'was_impossible': False}),\n",
       " Prediction(uid=15497, iid=2302, r_ui=0.0, est=0.5614852736395074, details={'was_impossible': False}),\n",
       " Prediction(uid=14438, iid=1142, r_ui=1.0, est=0.5976234925771621, details={'was_impossible': False}),\n",
       " Prediction(uid=15254, iid=2018, r_ui=1.0, est=0.7426204732033893, details={'was_impossible': False}),\n",
       " Prediction(uid=3277, iid=2159, r_ui=0.0, est=0.838455570678375, details={'was_impossible': False}),\n",
       " Prediction(uid=19213, iid=713, r_ui=1.0, est=0.7330914610196204, details={'was_impossible': False}),\n",
       " Prediction(uid=12642, iid=2490, r_ui=1.0, est=0.8523379489565703, details={'was_impossible': False}),\n",
       " Prediction(uid=332, iid=2004, r_ui=0.0, est=0.47261846344210157, details={'was_impossible': False}),\n",
       " Prediction(uid=9405, iid=3755, r_ui=0.0, est=0.09010973251581794, details={'was_impossible': False}),\n",
       " Prediction(uid=13820, iid=3219, r_ui=0.0, est=0.5429780988457614, details={'was_impossible': False}),\n",
       " Prediction(uid=12914, iid=1251, r_ui=1.0, est=0.418683242794291, details={'was_impossible': False}),\n",
       " Prediction(uid=8266, iid=3677, r_ui=0.0, est=0.2666973661495859, details={'was_impossible': False}),\n",
       " Prediction(uid=7777, iid=1219, r_ui=0.0, est=0.2816486477796486, details={'was_impossible': False}),\n",
       " Prediction(uid=2294, iid=1833, r_ui=0.0, est=0.4909170622873812, details={'was_impossible': False}),\n",
       " Prediction(uid=10985, iid=1772, r_ui=1.0, est=0.7139407870046615, details={'was_impossible': False}),\n",
       " Prediction(uid=19349, iid=530, r_ui=1.0, est=0.5288671576527735, details={'was_impossible': False}),\n",
       " Prediction(uid=17830, iid=4112, r_ui=0.0, est=0.16837469200935787, details={'was_impossible': False}),\n",
       " Prediction(uid=11365, iid=3694, r_ui=1.0, est=0.6575674665285737, details={'was_impossible': False}),\n",
       " Prediction(uid=2954, iid=2928, r_ui=0.0, est=0.4651525506175305, details={'was_impossible': False}),\n",
       " Prediction(uid=12706, iid=151, r_ui=0.0, est=0.4839153516779927, details={'was_impossible': False}),\n",
       " Prediction(uid=10569, iid=2276, r_ui=0.0, est=0.5481333915827286, details={'was_impossible': False}),\n",
       " Prediction(uid=12881, iid=1046, r_ui=0.0, est=0.3173428776026106, details={'was_impossible': False}),\n",
       " Prediction(uid=325, iid=762, r_ui=0.0, est=0.7619447154467388, details={'was_impossible': False}),\n",
       " Prediction(uid=17676, iid=1507, r_ui=1.0, est=0.7401444653025793, details={'was_impossible': False}),\n",
       " Prediction(uid=10410, iid=1273, r_ui=1.0, est=0.7337454952028127, details={'was_impossible': False}),\n",
       " Prediction(uid=1770, iid=3625, r_ui=1.0, est=0.5689298742712201, details={'was_impossible': False}),\n",
       " Prediction(uid=13814, iid=2294, r_ui=1.0, est=0.6644100930626681, details={'was_impossible': False}),\n",
       " Prediction(uid=3416, iid=1613, r_ui=0.0, est=0.4538340167443287, details={'was_impossible': False}),\n",
       " Prediction(uid=7627, iid=325, r_ui=0.0, est=0.6510591888304942, details={'was_impossible': False}),\n",
       " Prediction(uid=9855, iid=936, r_ui=1.0, est=0.3719086893215345, details={'was_impossible': False}),\n",
       " Prediction(uid=13633, iid=216, r_ui=1.0, est=0.5553094148145347, details={'was_impossible': False}),\n",
       " Prediction(uid=3956, iid=1649, r_ui=0.0, est=0.1992756695051819, details={'was_impossible': False}),\n",
       " Prediction(uid=18421, iid=2578, r_ui=1.0, est=0.5304141523767633, details={'was_impossible': False}),\n",
       " Prediction(uid=9820, iid=362, r_ui=0.0, est=0.1837263616185457, details={'was_impossible': False}),\n",
       " Prediction(uid=12284, iid=4325, r_ui=0.0, est=0.5863525064745538, details={'was_impossible': False}),\n",
       " Prediction(uid=15906, iid=2662, r_ui=0.0, est=0.38750241907392724, details={'was_impossible': False}),\n",
       " Prediction(uid=16820, iid=1266, r_ui=1.0, est=0.6401489847350692, details={'was_impossible': False}),\n",
       " Prediction(uid=11381, iid=4765, r_ui=0.0, est=0.6218837467506243, details={'was_impossible': False}),\n",
       " Prediction(uid=11182, iid=1537, r_ui=1.0, est=0.9435914161608999, details={'was_impossible': False}),\n",
       " Prediction(uid=10824, iid=4171, r_ui=1.0, est=0.5644816675798225, details={'was_impossible': False}),\n",
       " Prediction(uid=6474, iid=2313, r_ui=1.0, est=0.44123842802581725, details={'was_impossible': False}),\n",
       " Prediction(uid=944, iid=2559, r_ui=1.0, est=0.6928327902859668, details={'was_impossible': False}),\n",
       " Prediction(uid=17374, iid=1761, r_ui=0.0, est=0.6141691837410416, details={'was_impossible': False}),\n",
       " Prediction(uid=12120, iid=2047, r_ui=1.0, est=0.6447288497836047, details={'was_impossible': False}),\n",
       " Prediction(uid=13995, iid=2806, r_ui=0.0, est=0.10258909616246613, details={'was_impossible': False}),\n",
       " Prediction(uid=10282, iid=4003, r_ui=1.0, est=0.7068319567904316, details={'was_impossible': False}),\n",
       " Prediction(uid=2953, iid=1781, r_ui=1.0, est=0.7232111054583967, details={'was_impossible': False}),\n",
       " Prediction(uid=5808, iid=3890, r_ui=0.0, est=0.641606536224131, details={'was_impossible': False}),\n",
       " Prediction(uid=3053, iid=2315, r_ui=0.0, est=0.2488683985689976, details={'was_impossible': False}),\n",
       " Prediction(uid=13897, iid=1978, r_ui=0.0, est=0.6685183736745965, details={'was_impossible': False}),\n",
       " Prediction(uid=248, iid=286, r_ui=1.0, est=0.5776785479290497, details={'was_impossible': False}),\n",
       " Prediction(uid=17362, iid=4558, r_ui=0.0, est=0.409278952554549, details={'was_impossible': False}),\n",
       " Prediction(uid=270, iid=1148, r_ui=1.0, est=0.6899798762505882, details={'was_impossible': False}),\n",
       " Prediction(uid=14187, iid=898, r_ui=1.0, est=0.28015479579937674, details={'was_impossible': False}),\n",
       " Prediction(uid=2952, iid=183, r_ui=1.0, est=0.9196220172804518, details={'was_impossible': False}),\n",
       " Prediction(uid=14916, iid=1458, r_ui=1.0, est=0.8146177062395783, details={'was_impossible': False}),\n",
       " Prediction(uid=14491, iid=4308, r_ui=1.0, est=0.6455726413632132, details={'was_impossible': False}),\n",
       " Prediction(uid=8808, iid=4786, r_ui=0.0, est=0.24341699318718102, details={'was_impossible': False}),\n",
       " Prediction(uid=15132, iid=3790, r_ui=0.0, est=0.4196908917336705, details={'was_impossible': False}),\n",
       " Prediction(uid=10167, iid=4397, r_ui=0.0, est=0.37108935020263917, details={'was_impossible': False}),\n",
       " Prediction(uid=16702, iid=611, r_ui=0.0, est=0.46473240486040546, details={'was_impossible': False}),\n",
       " Prediction(uid=4987, iid=563, r_ui=0.0, est=0.3091812097913772, details={'was_impossible': False}),\n",
       " Prediction(uid=15401, iid=3274, r_ui=0.0, est=0.2314386198237409, details={'was_impossible': False}),\n",
       " Prediction(uid=18482, iid=17, r_ui=0.0, est=0.6113757700759027, details={'was_impossible': False}),\n",
       " Prediction(uid=18755, iid=2286, r_ui=1.0, est=0.6894057578052405, details={'was_impossible': False}),\n",
       " Prediction(uid=8620, iid=3418, r_ui=1.0, est=0.7849841391169537, details={'was_impossible': False}),\n",
       " Prediction(uid=12729, iid=623, r_ui=1.0, est=0.5456287754340012, details={'was_impossible': False}),\n",
       " Prediction(uid=16894, iid=2067, r_ui=1.0, est=0.8108886921083915, details={'was_impossible': False}),\n",
       " Prediction(uid=10778, iid=4892, r_ui=0.0, est=0.5790568344787096, details={'was_impossible': False}),\n",
       " Prediction(uid=13493, iid=35, r_ui=1.0, est=0.6989119847070664, details={'was_impossible': False}),\n",
       " Prediction(uid=3611, iid=1529, r_ui=1.0, est=0.6043278482275211, details={'was_impossible': False}),\n",
       " Prediction(uid=11278, iid=4534, r_ui=0.0, est=0.4811877850038823, details={'was_impossible': False}),\n",
       " Prediction(uid=2424, iid=43, r_ui=1.0, est=0.3298835306128476, details={'was_impossible': False}),\n",
       " Prediction(uid=4628, iid=4709, r_ui=0.0, est=0.15419266550462424, details={'was_impossible': False}),\n",
       " Prediction(uid=9474, iid=4099, r_ui=0.0, est=0.5134746590210062, details={'was_impossible': False}),\n",
       " Prediction(uid=19661, iid=3806, r_ui=0.0, est=0.45617725119437297, details={'was_impossible': False}),\n",
       " Prediction(uid=4619, iid=1290, r_ui=1.0, est=0.5182188131484853, details={'was_impossible': False}),\n",
       " Prediction(uid=16384, iid=3822, r_ui=1.0, est=0.8055861272064718, details={'was_impossible': False}),\n",
       " Prediction(uid=9756, iid=4007, r_ui=1.0, est=0.43411537879237844, details={'was_impossible': False}),\n",
       " Prediction(uid=4754, iid=829, r_ui=0.0, est=0.4443495308937773, details={'was_impossible': False}),\n",
       " Prediction(uid=4695, iid=1647, r_ui=1.0, est=0.866742606970636, details={'was_impossible': False}),\n",
       " Prediction(uid=19855, iid=286, r_ui=0.0, est=0.7662543211264701, details={'was_impossible': False}),\n",
       " Prediction(uid=14498, iid=1739, r_ui=1.0, est=0.6530542839366309, details={'was_impossible': False}),\n",
       " Prediction(uid=9071, iid=215, r_ui=0.0, est=0.5190820010730532, details={'was_impossible': False}),\n",
       " Prediction(uid=14462, iid=3847, r_ui=1.0, est=0.6208770640869433, details={'was_impossible': False}),\n",
       " Prediction(uid=14398, iid=4124, r_ui=1.0, est=0.5991546115688249, details={'was_impossible': False}),\n",
       " Prediction(uid=7751, iid=454, r_ui=1.0, est=0.7409205753822762, details={'was_impossible': False}),\n",
       " Prediction(uid=10662, iid=613, r_ui=1.0, est=0.6542189652888004, details={'was_impossible': False}),\n",
       " Prediction(uid=10394, iid=3809, r_ui=1.0, est=0.7359559040745696, details={'was_impossible': False}),\n",
       " Prediction(uid=11316, iid=4798, r_ui=1.0, est=0.45366598325675545, details={'was_impossible': False}),\n",
       " Prediction(uid=10668, iid=3692, r_ui=0.0, est=0.5591080618108557, details={'was_impossible': False}),\n",
       " Prediction(uid=3077, iid=2811, r_ui=0.0, est=0.6548335779864658, details={'was_impossible': False}),\n",
       " Prediction(uid=10337, iid=178, r_ui=1.0, est=0.7124432546858019, details={'was_impossible': False}),\n",
       " Prediction(uid=6782, iid=1999, r_ui=1.0, est=0.5779025063646109, details={'was_impossible': False}),\n",
       " Prediction(uid=9377, iid=2865, r_ui=0.0, est=0.18935071177413, details={'was_impossible': False}),\n",
       " Prediction(uid=14677, iid=269, r_ui=0.0, est=0.3050785554073851, details={'was_impossible': False}),\n",
       " Prediction(uid=10972, iid=3489, r_ui=0.0, est=0.539380886865018, details={'was_impossible': False}),\n",
       " Prediction(uid=19567, iid=2061, r_ui=1.0, est=0.8423289364820904, details={'was_impossible': False}),\n",
       " Prediction(uid=3229, iid=799, r_ui=0.0, est=0.5434639438445256, details={'was_impossible': False}),\n",
       " Prediction(uid=7091, iid=2327, r_ui=0.0, est=0.44263188399738657, details={'was_impossible': False}),\n",
       " Prediction(uid=14225, iid=4556, r_ui=0.0, est=0.190003911203731, details={'was_impossible': False}),\n",
       " Prediction(uid=7641, iid=4592, r_ui=1.0, est=0.6415852535638895, details={'was_impossible': False}),\n",
       " Prediction(uid=7293, iid=2523, r_ui=1.0, est=0.4665093134859315, details={'was_impossible': False}),\n",
       " Prediction(uid=7306, iid=1854, r_ui=0.0, est=0.44042361143116543, details={'was_impossible': False}),\n",
       " Prediction(uid=8236, iid=810, r_ui=0.0, est=0.49391817144972516, details={'was_impossible': False}),\n",
       " Prediction(uid=6771, iid=4521, r_ui=0.0, est=0.38638896775187137, details={'was_impossible': False}),\n",
       " Prediction(uid=10342, iid=2716, r_ui=0.0, est=0.37851440690283716, details={'was_impossible': False}),\n",
       " Prediction(uid=3726, iid=1730, r_ui=0.0, est=0.278562217625156, details={'was_impossible': False}),\n",
       " Prediction(uid=13832, iid=1913, r_ui=1.0, est=0.5161498377489591, details={'was_impossible': False}),\n",
       " Prediction(uid=691, iid=1942, r_ui=0.0, est=0.4969954973275313, details={'was_impossible': False}),\n",
       " Prediction(uid=17833, iid=1694, r_ui=0.0, est=0.4960405547713494, details={'was_impossible': False}),\n",
       " Prediction(uid=677, iid=1916, r_ui=1.0, est=0.39463253000258947, details={'was_impossible': False}),\n",
       " Prediction(uid=885, iid=2851, r_ui=0.0, est=0.5363520077874346, details={'was_impossible': False}),\n",
       " Prediction(uid=3939, iid=289, r_ui=1.0, est=0.5620407432155523, details={'was_impossible': False}),\n",
       " Prediction(uid=11674, iid=313, r_ui=0.0, est=0.3749843013892717, details={'was_impossible': False}),\n",
       " Prediction(uid=8102, iid=1444, r_ui=0.0, est=0.3320193179824016, details={'was_impossible': False}),\n",
       " Prediction(uid=17460, iid=3146, r_ui=1.0, est=0.8081378205400715, details={'was_impossible': False}),\n",
       " Prediction(uid=13247, iid=242, r_ui=1.0, est=0.7952478713353655, details={'was_impossible': False}),\n",
       " Prediction(uid=8315, iid=1380, r_ui=1.0, est=0.648413091771751, details={'was_impossible': False}),\n",
       " Prediction(uid=19188, iid=1308, r_ui=1.0, est=0.6837714333111425, details={'was_impossible': False}),\n",
       " Prediction(uid=5708, iid=1031, r_ui=1.0, est=0.8893521757823676, details={'was_impossible': False}),\n",
       " Prediction(uid=8195, iid=4656, r_ui=0.0, est=0.4628459979152185, details={'was_impossible': False}),\n",
       " Prediction(uid=14387, iid=990, r_ui=0.0, est=0.6052102337673938, details={'was_impossible': False}),\n",
       " Prediction(uid=19211, iid=1430, r_ui=1.0, est=0.36095541921379165, details={'was_impossible': False}),\n",
       " Prediction(uid=14779, iid=3933, r_ui=1.0, est=0.4394765513225895, details={'was_impossible': False}),\n",
       " Prediction(uid=10282, iid=1027, r_ui=1.0, est=0.6160841012419532, details={'was_impossible': False}),\n",
       " Prediction(uid=11985, iid=145, r_ui=1.0, est=0.8474031323440557, details={'was_impossible': False}),\n",
       " Prediction(uid=81, iid=4957, r_ui=1.0, est=0.7916381329795995, details={'was_impossible': False}),\n",
       " Prediction(uid=16425, iid=844, r_ui=1.0, est=0.6879803159405342, details={'was_impossible': False}),\n",
       " Prediction(uid=13395, iid=2737, r_ui=1.0, est=0.6214441208031105, details={'was_impossible': False}),\n",
       " Prediction(uid=19268, iid=4135, r_ui=1.0, est=0.3661879645434866, details={'was_impossible': False}),\n",
       " Prediction(uid=8691, iid=1167, r_ui=1.0, est=0.8315681705334702, details={'was_impossible': False}),\n",
       " Prediction(uid=18325, iid=137, r_ui=1.0, est=0.5998135920201029, details={'was_impossible': False}),\n",
       " Prediction(uid=9390, iid=1972, r_ui=1.0, est=0.640445833985291, details={'was_impossible': False}),\n",
       " Prediction(uid=12002, iid=439, r_ui=1.0, est=0.5940163817538332, details={'was_impossible': False}),\n",
       " Prediction(uid=19095, iid=1759, r_ui=0.0, est=0.26636797441810356, details={'was_impossible': False}),\n",
       " Prediction(uid=13752, iid=4693, r_ui=0.0, est=0.4558100075116002, details={'was_impossible': False}),\n",
       " Prediction(uid=8686, iid=4786, r_ui=0.0, est=0.24296301502225665, details={'was_impossible': False}),\n",
       " Prediction(uid=7932, iid=3208, r_ui=0.0, est=0.41974409693799364, details={'was_impossible': False}),\n",
       " Prediction(uid=7935, iid=2388, r_ui=0.0, est=0.2395752889356243, details={'was_impossible': False}),\n",
       " Prediction(uid=919, iid=3559, r_ui=1.0, est=0.5677898970200268, details={'was_impossible': False}),\n",
       " Prediction(uid=7053, iid=847, r_ui=0.0, est=0.46578482433709467, details={'was_impossible': False}),\n",
       " Prediction(uid=5119, iid=745, r_ui=0.0, est=0.5282688961830587, details={'was_impossible': False}),\n",
       " Prediction(uid=16038, iid=2572, r_ui=0.0, est=0.2644639643751165, details={'was_impossible': False}),\n",
       " Prediction(uid=6740, iid=523, r_ui=1.0, est=0.5211362928037204, details={'was_impossible': False}),\n",
       " Prediction(uid=7088, iid=1098, r_ui=1.0, est=0.9483953935770608, details={'was_impossible': False}),\n",
       " Prediction(uid=6157, iid=2998, r_ui=0.0, est=0.8678521846555028, details={'was_impossible': False}),\n",
       " Prediction(uid=7140, iid=1844, r_ui=1.0, est=0.7560842218746869, details={'was_impossible': False}),\n",
       " Prediction(uid=4754, iid=2342, r_ui=1.0, est=0.4494104651563546, details={'was_impossible': False}),\n",
       " Prediction(uid=8194, iid=1872, r_ui=1.0, est=0.4301494053425281, details={'was_impossible': False}),\n",
       " Prediction(uid=19348, iid=999, r_ui=1.0, est=0.5653964927080074, details={'was_impossible': False}),\n",
       " Prediction(uid=1913, iid=3279, r_ui=0.0, est=0.7101641558443189, details={'was_impossible': False}),\n",
       " Prediction(uid=14383, iid=4662, r_ui=0.0, est=0.2559973678246111, details={'was_impossible': False}),\n",
       " Prediction(uid=9391, iid=4073, r_ui=0.0, est=0.2747183070427972, details={'was_impossible': False}),\n",
       " Prediction(uid=16889, iid=98, r_ui=1.0, est=0.6300354041203934, details={'was_impossible': False}),\n",
       " Prediction(uid=3759, iid=1042, r_ui=1.0, est=0.6741212817231165, details={'was_impossible': False}),\n",
       " Prediction(uid=17416, iid=1043, r_ui=1.0, est=0.4642630203866554, details={'was_impossible': False}),\n",
       " Prediction(uid=2850, iid=3898, r_ui=1.0, est=0.7610935531980242, details={'was_impossible': False}),\n",
       " Prediction(uid=5216, iid=4485, r_ui=1.0, est=0.6219952924778135, details={'was_impossible': False}),\n",
       " Prediction(uid=7408, iid=899, r_ui=0.0, est=0.32288754234395184, details={'was_impossible': False}),\n",
       " Prediction(uid=7119, iid=4874, r_ui=1.0, est=0.7961311022854095, details={'was_impossible': False}),\n",
       " Prediction(uid=1461, iid=4064, r_ui=0.0, est=0.5229479430618403, details={'was_impossible': False}),\n",
       " Prediction(uid=3301, iid=4130, r_ui=0.0, est=0.6628096502758136, details={'was_impossible': False}),\n",
       " Prediction(uid=11675, iid=4766, r_ui=1.0, est=0.691224698994044, details={'was_impossible': False}),\n",
       " Prediction(uid=719, iid=4638, r_ui=1.0, est=0.45134987943825644, details={'was_impossible': False}),\n",
       " Prediction(uid=18669, iid=1803, r_ui=1.0, est=0.800896412725711, details={'was_impossible': False}),\n",
       " Prediction(uid=19239, iid=2468, r_ui=1.0, est=0.5485861137359956, details={'was_impossible': False}),\n",
       " Prediction(uid=12866, iid=4573, r_ui=0.0, est=0.6001430139299083, details={'was_impossible': False}),\n",
       " Prediction(uid=867, iid=3777, r_ui=1.0, est=0.5591176596684841, details={'was_impossible': False}),\n",
       " Prediction(uid=8864, iid=437, r_ui=1.0, est=0.5736436210671005, details={'was_impossible': False}),\n",
       " Prediction(uid=19027, iid=11, r_ui=0.0, est=0.6574460369415975, details={'was_impossible': False}),\n",
       " Prediction(uid=1219, iid=3864, r_ui=1.0, est=0.46369171965481204, details={'was_impossible': False}),\n",
       " Prediction(uid=1202, iid=2249, r_ui=1.0, est=0.7190963803035195, details={'was_impossible': False}),\n",
       " Prediction(uid=8312, iid=276, r_ui=1.0, est=0.7522724766115912, details={'was_impossible': False}),\n",
       " Prediction(uid=10291, iid=2441, r_ui=1.0, est=0.9273744844821246, details={'was_impossible': False}),\n",
       " Prediction(uid=2776, iid=1590, r_ui=1.0, est=0.514945227528646, details={'was_impossible': False}),\n",
       " Prediction(uid=7352, iid=1883, r_ui=0.0, est=0.36728999635472886, details={'was_impossible': False}),\n",
       " Prediction(uid=12143, iid=4505, r_ui=1.0, est=0.6641557438607644, details={'was_impossible': False}),\n",
       " Prediction(uid=16236, iid=3258, r_ui=1.0, est=0.5182532123536493, details={'was_impossible': False}),\n",
       " Prediction(uid=15101, iid=4595, r_ui=0.0, est=0.38881017087376857, details={'was_impossible': False}),\n",
       " Prediction(uid=4050, iid=1271, r_ui=1.0, est=0.8624942890786369, details={'was_impossible': False}),\n",
       " Prediction(uid=13072, iid=4559, r_ui=1.0, est=0.6729950101983813, details={'was_impossible': False}),\n",
       " Prediction(uid=15337, iid=594, r_ui=0.0, est=0.8562619542074764, details={'was_impossible': False}),\n",
       " Prediction(uid=19202, iid=4235, r_ui=1.0, est=0.4325222026345109, details={'was_impossible': False}),\n",
       " Prediction(uid=17063, iid=1233, r_ui=0.0, est=0.4431424477475791, details={'was_impossible': False}),\n",
       " Prediction(uid=4290, iid=1213, r_ui=1.0, est=0.42042439509713736, details={'was_impossible': False}),\n",
       " Prediction(uid=13448, iid=1577, r_ui=1.0, est=0.7542894494543703, details={'was_impossible': False}),\n",
       " Prediction(uid=16388, iid=4320, r_ui=1.0, est=0.3314506901913234, details={'was_impossible': False}),\n",
       " Prediction(uid=286, iid=4491, r_ui=0.0, est=0.35075892155640237, details={'was_impossible': False}),\n",
       " Prediction(uid=17062, iid=95, r_ui=0.0, est=0.1472166184038211, details={'was_impossible': False}),\n",
       " Prediction(uid=6944, iid=4740, r_ui=0.0, est=0.6960375812354789, details={'was_impossible': False}),\n",
       " Prediction(uid=7802, iid=3768, r_ui=1.0, est=0.8439882642449373, details={'was_impossible': False}),\n",
       " Prediction(uid=1423, iid=406, r_ui=1.0, est=0.30269511708350094, details={'was_impossible': False}),\n",
       " Prediction(uid=3154, iid=520, r_ui=1.0, est=0.7142249484090106, details={'was_impossible': False}),\n",
       " Prediction(uid=15894, iid=2567, r_ui=1.0, est=0.862925872423077, details={'was_impossible': False}),\n",
       " Prediction(uid=7055, iid=451, r_ui=0.0, est=0.48858572334160044, details={'was_impossible': False}),\n",
       " Prediction(uid=5325, iid=4546, r_ui=0.0, est=0.16742552876832814, details={'was_impossible': False}),\n",
       " Prediction(uid=18462, iid=2458, r_ui=0.0, est=0.26222266974885955, details={'was_impossible': False}),\n",
       " Prediction(uid=14781, iid=3203, r_ui=0.0, est=0.40820029267235575, details={'was_impossible': False}),\n",
       " Prediction(uid=5686, iid=1211, r_ui=1.0, est=0.9845474584946542, details={'was_impossible': False}),\n",
       " Prediction(uid=12057, iid=484, r_ui=0.0, est=0.4583847078401119, details={'was_impossible': False}),\n",
       " Prediction(uid=11347, iid=3538, r_ui=0.0, est=0.3982952374663449, details={'was_impossible': False}),\n",
       " Prediction(uid=3406, iid=1041, r_ui=0.0, est=0.3444987789844924, details={'was_impossible': False}),\n",
       " Prediction(uid=14520, iid=996, r_ui=1.0, est=0.45269404113306966, details={'was_impossible': False}),\n",
       " Prediction(uid=5525, iid=1169, r_ui=0.0, est=0.571248172948755, details={'was_impossible': False}),\n",
       " Prediction(uid=7155, iid=2446, r_ui=1.0, est=0.7361140345552962, details={'was_impossible': False}),\n",
       " Prediction(uid=3611, iid=3686, r_ui=1.0, est=0.9048082208703492, details={'was_impossible': False}),\n",
       " Prediction(uid=2359, iid=2324, r_ui=1.0, est=0.8078408219758169, details={'was_impossible': False}),\n",
       " Prediction(uid=19837, iid=1263, r_ui=0.0, est=0.06785491932439776, details={'was_impossible': False}),\n",
       " Prediction(uid=5926, iid=2745, r_ui=1.0, est=0.583603621229558, details={'was_impossible': False}),\n",
       " Prediction(uid=7091, iid=3905, r_ui=1.0, est=0.5644329684908069, details={'was_impossible': False}),\n",
       " Prediction(uid=15790, iid=821, r_ui=1.0, est=0.6924772037062096, details={'was_impossible': False}),\n",
       " Prediction(uid=4848, iid=896, r_ui=1.0, est=0.6719051099081026, details={'was_impossible': False}),\n",
       " Prediction(uid=13448, iid=916, r_ui=1.0, est=0.8993185486024763, details={'was_impossible': False}),\n",
       " Prediction(uid=15898, iid=4936, r_ui=1.0, est=0.8004679600645702, details={'was_impossible': False}),\n",
       " Prediction(uid=3344, iid=888, r_ui=0.0, est=0.14656131409890263, details={'was_impossible': False}),\n",
       " Prediction(uid=6944, iid=4777, r_ui=1.0, est=0.6091502256578846, details={'was_impossible': False}),\n",
       " Prediction(uid=9050, iid=4426, r_ui=1.0, est=0.35816224098469923, details={'was_impossible': False}),\n",
       " Prediction(uid=3832, iid=1810, r_ui=0.0, est=0.5884394000454258, details={'was_impossible': False}),\n",
       " Prediction(uid=13677, iid=2355, r_ui=1.0, est=0.8365833608183472, details={'was_impossible': False}),\n",
       " Prediction(uid=16784, iid=2110, r_ui=0.0, est=0.3417559571950006, details={'was_impossible': False}),\n",
       " Prediction(uid=7278, iid=2159, r_ui=1.0, est=0.473883953333208, details={'was_impossible': False}),\n",
       " Prediction(uid=10774, iid=463, r_ui=1.0, est=0.8208117944379916, details={'was_impossible': False}),\n",
       " Prediction(uid=8833, iid=4828, r_ui=1.0, est=0.8153915239469837, details={'was_impossible': False}),\n",
       " Prediction(uid=5816, iid=211, r_ui=1.0, est=0.4805231582797642, details={'was_impossible': False}),\n",
       " Prediction(uid=19172, iid=3233, r_ui=0.0, est=0.5029630489131348, details={'was_impossible': False}),\n",
       " Prediction(uid=17849, iid=2799, r_ui=1.0, est=0.5552972111720934, details={'was_impossible': False}),\n",
       " Prediction(uid=576, iid=4029, r_ui=1.0, est=0.8607039616108116, details={'was_impossible': False}),\n",
       " Prediction(uid=16131, iid=2326, r_ui=0.0, est=0.6648442970575225, details={'was_impossible': False}),\n",
       " Prediction(uid=15934, iid=3379, r_ui=0.0, est=0.38469086178627604, details={'was_impossible': False}),\n",
       " Prediction(uid=18751, iid=2029, r_ui=0.0, est=0.5120541973585978, details={'was_impossible': False}),\n",
       " Prediction(uid=10946, iid=4012, r_ui=0.0, est=0.685592173333791, details={'was_impossible': False}),\n",
       " Prediction(uid=16039, iid=3055, r_ui=1.0, est=0.5071867967598049, details={'was_impossible': False}),\n",
       " Prediction(uid=10493, iid=2293, r_ui=0.0, est=0, details={'was_impossible': False}),\n",
       " Prediction(uid=8321, iid=2956, r_ui=1.0, est=0.7166319561894005, details={'was_impossible': False}),\n",
       " Prediction(uid=5522, iid=918, r_ui=0.0, est=0.743035267984556, details={'was_impossible': False}),\n",
       " Prediction(uid=4835, iid=1367, r_ui=1.0, est=0.5740472495103799, details={'was_impossible': False}),\n",
       " Prediction(uid=9134, iid=1040, r_ui=0.0, est=0.441838530234898, details={'was_impossible': False}),\n",
       " Prediction(uid=16544, iid=377, r_ui=0.0, est=0.7662445983162185, details={'was_impossible': False}),\n",
       " Prediction(uid=13942, iid=1766, r_ui=1.0, est=0.7060461883227324, details={'was_impossible': False}),\n",
       " Prediction(uid=15887, iid=2632, r_ui=0.0, est=0.6629913839112386, details={'was_impossible': False}),\n",
       " Prediction(uid=12653, iid=2725, r_ui=0.0, est=0.439009818271455, details={'was_impossible': False}),\n",
       " Prediction(uid=1218, iid=4769, r_ui=0.0, est=0.7155883250283087, details={'was_impossible': False}),\n",
       " Prediction(uid=17147, iid=3580, r_ui=0.0, est=0.425269326193409, details={'was_impossible': False}),\n",
       " Prediction(uid=12054, iid=3139, r_ui=1.0, est=0.56271669436693, details={'was_impossible': False}),\n",
       " Prediction(uid=16209, iid=1342, r_ui=1.0, est=0.6771212104305463, details={'was_impossible': False}),\n",
       " Prediction(uid=18161, iid=807, r_ui=0.0, est=0.475350470889611, details={'was_impossible': False}),\n",
       " Prediction(uid=4099, iid=416, r_ui=1.0, est=0.731718671585233, details={'was_impossible': False}),\n",
       " Prediction(uid=14179, iid=3327, r_ui=0.0, est=0.6119369215794573, details={'was_impossible': False}),\n",
       " Prediction(uid=4811, iid=317, r_ui=0.0, est=0.5378860708701527, details={'was_impossible': False}),\n",
       " Prediction(uid=1455, iid=2501, r_ui=0.0, est=0.07937132001063056, details={'was_impossible': False}),\n",
       " Prediction(uid=5647, iid=1204, r_ui=1.0, est=0.7346667981446362, details={'was_impossible': False}),\n",
       " Prediction(uid=6541, iid=3852, r_ui=0.0, est=0.28931879070535305, details={'was_impossible': False}),\n",
       " Prediction(uid=2096, iid=1105, r_ui=1.0, est=0.711978397976192, details={'was_impossible': False}),\n",
       " Prediction(uid=820, iid=13, r_ui=0.0, est=0.36897285838258076, details={'was_impossible': False}),\n",
       " Prediction(uid=14947, iid=289, r_ui=0.0, est=0.6275216302404338, details={'was_impossible': False}),\n",
       " Prediction(uid=19535, iid=2479, r_ui=0.0, est=0.2079985188565507, details={'was_impossible': False}),\n",
       " Prediction(uid=18901, iid=2794, r_ui=1.0, est=0.3578948154585041, details={'was_impossible': False}),\n",
       " Prediction(uid=5619, iid=2513, r_ui=1.0, est=0.9823551940696446, details={'was_impossible': False}),\n",
       " Prediction(uid=8079, iid=4112, r_ui=1.0, est=0.3255561697638281, details={'was_impossible': False}),\n",
       " Prediction(uid=17621, iid=2483, r_ui=1.0, est=0.6986419675471081, details={'was_impossible': False}),\n",
       " Prediction(uid=3262, iid=4163, r_ui=0.0, est=0.5644762475046907, details={'was_impossible': False}),\n",
       " Prediction(uid=7891, iid=2236, r_ui=0.0, est=0.13654062062729042, details={'was_impossible': False}),\n",
       " Prediction(uid=7072, iid=4798, r_ui=1.0, est=0.6056412762732902, details={'was_impossible': False}),\n",
       " Prediction(uid=4715, iid=4342, r_ui=0.0, est=0.527018239319145, details={'was_impossible': False}),\n",
       " Prediction(uid=14529, iid=2632, r_ui=0.0, est=0.3479987001214268, details={'was_impossible': False}),\n",
       " Prediction(uid=11644, iid=297, r_ui=1.0, est=0.8520055559895875, details={'was_impossible': False}),\n",
       " Prediction(uid=2751, iid=3764, r_ui=0.0, est=0.5067581698916018, details={'was_impossible': False}),\n",
       " Prediction(uid=2831, iid=2001, r_ui=0.0, est=0.3923740460619496, details={'was_impossible': False}),\n",
       " Prediction(uid=2320, iid=1794, r_ui=0.0, est=0.43489306685864554, details={'was_impossible': False}),\n",
       " Prediction(uid=9050, iid=1327, r_ui=1.0, est=0.594657443970066, details={'was_impossible': False}),\n",
       " Prediction(uid=846, iid=2820, r_ui=0.0, est=0.8446568748039248, details={'was_impossible': False}),\n",
       " Prediction(uid=14186, iid=4110, r_ui=0.0, est=0.6103869243673007, details={'was_impossible': False}),\n",
       " Prediction(uid=7879, iid=3523, r_ui=1.0, est=0.6673796331504187, details={'was_impossible': False}),\n",
       " Prediction(uid=16640, iid=2292, r_ui=1.0, est=0.6558448040406255, details={'was_impossible': False}),\n",
       " Prediction(uid=19798, iid=3905, r_ui=1.0, est=0.7070573713500485, details={'was_impossible': False}),\n",
       " Prediction(uid=7034, iid=2984, r_ui=0.0, est=0.16470637977376204, details={'was_impossible': False}),\n",
       " Prediction(uid=17138, iid=2577, r_ui=1.0, est=0.8403143056878996, details={'was_impossible': False}),\n",
       " Prediction(uid=12362, iid=244, r_ui=0.0, est=0.4594595443748418, details={'was_impossible': False}),\n",
       " Prediction(uid=10991, iid=2555, r_ui=0.0, est=0.5429134681356866, details={'was_impossible': False}),\n",
       " Prediction(uid=1780, iid=3123, r_ui=0.0, est=0.4101267244648122, details={'was_impossible': False}),\n",
       " Prediction(uid=589, iid=189, r_ui=1.0, est=0.615805725278509, details={'was_impossible': False}),\n",
       " Prediction(uid=15206, iid=4789, r_ui=1.0, est=0.8100643669351727, details={'was_impossible': False}),\n",
       " Prediction(uid=19428, iid=1426, r_ui=1.0, est=0.2610920861555965, details={'was_impossible': False}),\n",
       " Prediction(uid=3240, iid=4082, r_ui=0.0, est=0.34207213047275686, details={'was_impossible': False}),\n",
       " Prediction(uid=4004, iid=3165, r_ui=1.0, est=0.9786556574065237, details={'was_impossible': False}),\n",
       " Prediction(uid=19366, iid=575, r_ui=0.0, est=0.5869554770669123, details={'was_impossible': False}),\n",
       " Prediction(uid=15155, iid=4210, r_ui=1.0, est=0.7201805231310913, details={'was_impossible': False}),\n",
       " Prediction(uid=10921, iid=3438, r_ui=0.0, est=0.4375576167380739, details={'was_impossible': False}),\n",
       " Prediction(uid=3633, iid=784, r_ui=0.0, est=0.808265379682031, details={'was_impossible': False}),\n",
       " Prediction(uid=11982, iid=3141, r_ui=0.0, est=0.3353784421882778, details={'was_impossible': False}),\n",
       " Prediction(uid=7612, iid=811, r_ui=0.0, est=0.10530454571342897, details={'was_impossible': False}),\n",
       " Prediction(uid=12, iid=3048, r_ui=0.0, est=0.7536408662058919, details={'was_impossible': False}),\n",
       " Prediction(uid=18485, iid=1119, r_ui=0.0, est=0.29512217966665216, details={'was_impossible': False}),\n",
       " Prediction(uid=13322, iid=2627, r_ui=0.0, est=0.3997235760597818, details={'was_impossible': False}),\n",
       " Prediction(uid=15940, iid=4760, r_ui=0.0, est=0.6805284108428864, details={'was_impossible': False}),\n",
       " Prediction(uid=5680, iid=2075, r_ui=1.0, est=0.2084687893208264, details={'was_impossible': False}),\n",
       " Prediction(uid=11554, iid=2366, r_ui=0.0, est=0.4435178732904025, details={'was_impossible': False}),\n",
       " Prediction(uid=1540, iid=177, r_ui=0.0, est=0.42799742638321864, details={'was_impossible': False}),\n",
       " Prediction(uid=16686, iid=1469, r_ui=0.0, est=0.580491956858493, details={'was_impossible': False}),\n",
       " Prediction(uid=16465, iid=3765, r_ui=0.0, est=0.4700115928746899, details={'was_impossible': False}),\n",
       " Prediction(uid=5586, iid=4989, r_ui=0.0, est=0.6588855368139029, details={'was_impossible': False}),\n",
       " Prediction(uid=1139, iid=1862, r_ui=1.0, est=0.8080411300929092, details={'was_impossible': False}),\n",
       " Prediction(uid=17052, iid=1148, r_ui=0.0, est=0.5736521393198157, details={'was_impossible': False}),\n",
       " Prediction(uid=607, iid=3936, r_ui=0.0, est=0.35053013023038426, details={'was_impossible': False}),\n",
       " Prediction(uid=2350, iid=4229, r_ui=1.0, est=0.5255893246173879, details={'was_impossible': False}),\n",
       " Prediction(uid=17917, iid=4107, r_ui=1.0, est=0.8595345705823365, details={'was_impossible': False}),\n",
       " Prediction(uid=12481, iid=2097, r_ui=1.0, est=0.6924907022147843, details={'was_impossible': False}),\n",
       " Prediction(uid=19344, iid=1207, r_ui=0.0, est=0.27903728360519237, details={'was_impossible': False}),\n",
       " Prediction(uid=2067, iid=3268, r_ui=1.0, est=0.5157250908639601, details={'was_impossible': False}),\n",
       " Prediction(uid=17746, iid=4898, r_ui=1.0, est=0.4874857304141627, details={'was_impossible': False}),\n",
       " Prediction(uid=13958, iid=760, r_ui=0.0, est=0.1645595382821064, details={'was_impossible': False}),\n",
       " Prediction(uid=10034, iid=1550, r_ui=0.0, est=0.48749449832990693, details={'was_impossible': False}),\n",
       " Prediction(uid=18011, iid=2448, r_ui=1.0, est=0.7413598678885216, details={'was_impossible': False}),\n",
       " Prediction(uid=6264, iid=3991, r_ui=1.0, est=0.338140700700381, details={'was_impossible': False}),\n",
       " Prediction(uid=17599, iid=1274, r_ui=1.0, est=0.7510112653677756, details={'was_impossible': False}),\n",
       " Prediction(uid=10673, iid=557, r_ui=0.0, est=0.6828947453138657, details={'was_impossible': False}),\n",
       " Prediction(uid=2593, iid=2372, r_ui=1.0, est=0.6507316319193969, details={'was_impossible': False}),\n",
       " Prediction(uid=4453, iid=2418, r_ui=0.0, est=0.47456139704843164, details={'was_impossible': False}),\n",
       " Prediction(uid=17957, iid=3696, r_ui=0.0, est=0.39158350962540767, details={'was_impossible': False}),\n",
       " Prediction(uid=11225, iid=2351, r_ui=1.0, est=0.4333234451146956, details={'was_impossible': False}),\n",
       " Prediction(uid=17828, iid=1618, r_ui=1.0, est=0.7592622114734698, details={'was_impossible': False}),\n",
       " Prediction(uid=19076, iid=3740, r_ui=0.0, est=0.40941234088049067, details={'was_impossible': False}),\n",
       " Prediction(uid=19407, iid=424, r_ui=1.0, est=0.615445034676061, details={'was_impossible': False}),\n",
       " Prediction(uid=8637, iid=1655, r_ui=0.0, est=0.589092757493137, details={'was_impossible': False}),\n",
       " Prediction(uid=12879, iid=3895, r_ui=1.0, est=0.6817139824927714, details={'was_impossible': False}),\n",
       " Prediction(uid=9104, iid=2079, r_ui=1.0, est=0.5402093264840357, details={'was_impossible': False}),\n",
       " Prediction(uid=6049, iid=4172, r_ui=1.0, est=0.6041822508413317, details={'was_impossible': False}),\n",
       " Prediction(uid=4140, iid=1849, r_ui=0.0, est=0.6261083027604805, details={'was_impossible': False}),\n",
       " Prediction(uid=9202, iid=680, r_ui=0.0, est=0.28130166044875426, details={'was_impossible': False}),\n",
       " Prediction(uid=7994, iid=1745, r_ui=1.0, est=0.8814733525859666, details={'was_impossible': False}),\n",
       " Prediction(uid=3145, iid=1808, r_ui=1.0, est=0.8570720054459187, details={'was_impossible': False}),\n",
       " Prediction(uid=12765, iid=2406, r_ui=1.0, est=0.5852914615189386, details={'was_impossible': False}),\n",
       " Prediction(uid=10248, iid=2833, r_ui=1.0, est=0.7883450627392711, details={'was_impossible': False}),\n",
       " Prediction(uid=14969, iid=1018, r_ui=0.0, est=0.5138438200625004, details={'was_impossible': False}),\n",
       " Prediction(uid=16557, iid=3086, r_ui=1.0, est=0.7377940711008486, details={'was_impossible': False}),\n",
       " Prediction(uid=1199, iid=232, r_ui=0.0, est=0.5043293321702379, details={'was_impossible': False}),\n",
       " Prediction(uid=8986, iid=2385, r_ui=0.0, est=0.43786226831553526, details={'was_impossible': False}),\n",
       " Prediction(uid=17888, iid=322, r_ui=0.0, est=0.35162803177201885, details={'was_impossible': False}),\n",
       " Prediction(uid=5114, iid=4208, r_ui=1.0, est=0.6315903913217986, details={'was_impossible': False}),\n",
       " Prediction(uid=3180, iid=70, r_ui=1.0, est=0.647230487707337, details={'was_impossible': False}),\n",
       " Prediction(uid=9653, iid=2531, r_ui=0.0, est=0.5251766299272469, details={'was_impossible': False}),\n",
       " Prediction(uid=4934, iid=4039, r_ui=1.0, est=0.3212018339700556, details={'was_impossible': False}),\n",
       " Prediction(uid=16155, iid=4572, r_ui=0.0, est=0.5006594411244351, details={'was_impossible': False}),\n",
       " Prediction(uid=12047, iid=519, r_ui=0.0, est=0.6471466513939736, details={'was_impossible': False}),\n",
       " Prediction(uid=4898, iid=3165, r_ui=0.0, est=0.6068940374769222, details={'was_impossible': False}),\n",
       " Prediction(uid=19188, iid=4580, r_ui=0.0, est=0.6619950359540355, details={'was_impossible': False}),\n",
       " Prediction(uid=14596, iid=956, r_ui=0.0, est=0.11746708053393083, details={'was_impossible': False}),\n",
       " Prediction(uid=12914, iid=2848, r_ui=0.0, est=0.25278996142167215, details={'was_impossible': False}),\n",
       " Prediction(uid=11891, iid=808, r_ui=1.0, est=0.8421461610429123, details={'was_impossible': False}),\n",
       " Prediction(uid=13448, iid=3746, r_ui=1.0, est=0.8455377842451675, details={'was_impossible': False}),\n",
       " Prediction(uid=15688, iid=160, r_ui=1.0, est=0.7419673673459433, details={'was_impossible': False}),\n",
       " Prediction(uid=573, iid=1753, r_ui=0.0, est=0.2961280608676135, details={'was_impossible': False}),\n",
       " Prediction(uid=9370, iid=1374, r_ui=1.0, est=0.6481548489791878, details={'was_impossible': False}),\n",
       " Prediction(uid=651, iid=3927, r_ui=0.0, est=0.26967166500367695, details={'was_impossible': False}),\n",
       " Prediction(uid=12952, iid=1387, r_ui=0.0, est=0.4691470940486211, details={'was_impossible': False}),\n",
       " Prediction(uid=9092, iid=3986, r_ui=0.0, est=0.445538579655378, details={'was_impossible': False}),\n",
       " Prediction(uid=10654, iid=1382, r_ui=1.0, est=0.4576019532698552, details={'was_impossible': False}),\n",
       " Prediction(uid=510, iid=2710, r_ui=1.0, est=0.41047421082128405, details={'was_impossible': False}),\n",
       " Prediction(uid=440, iid=3350, r_ui=0.0, est=0.5736246868871064, details={'was_impossible': False}),\n",
       " Prediction(uid=15208, iid=1377, r_ui=0.0, est=0.5460354061798814, details={'was_impossible': False}),\n",
       " Prediction(uid=12075, iid=3712, r_ui=1.0, est=0.7733243008614026, details={'was_impossible': False}),\n",
       " Prediction(uid=2717, iid=2209, r_ui=0.0, est=0.3287204664795288, details={'was_impossible': False}),\n",
       " Prediction(uid=8222, iid=380, r_ui=0.0, est=0.12277930769751372, details={'was_impossible': False}),\n",
       " Prediction(uid=5021, iid=2588, r_ui=1.0, est=0.6871753448341062, details={'was_impossible': False}),\n",
       " Prediction(uid=17241, iid=4893, r_ui=0.0, est=0.18991821285273813, details={'was_impossible': False}),\n",
       " Prediction(uid=12845, iid=1568, r_ui=1.0, est=0.5805046727856304, details={'was_impossible': False}),\n",
       " Prediction(uid=14825, iid=3706, r_ui=0.0, est=0.45011834177451504, details={'was_impossible': False}),\n",
       " Prediction(uid=3898, iid=2130, r_ui=0.0, est=0.10427847340726429, details={'was_impossible': False}),\n",
       " Prediction(uid=6388, iid=3931, r_ui=0.0, est=0.5760885351825356, details={'was_impossible': False}),\n",
       " Prediction(uid=14264, iid=3662, r_ui=1.0, est=0.712052704552364, details={'was_impossible': False}),\n",
       " Prediction(uid=7813, iid=723, r_ui=1.0, est=0.40659747832262755, details={'was_impossible': False}),\n",
       " Prediction(uid=18031, iid=2066, r_ui=1.0, est=0.47159565417840676, details={'was_impossible': False}),\n",
       " Prediction(uid=8205, iid=3927, r_ui=0.0, est=0.5289955728055508, details={'was_impossible': False}),\n",
       " Prediction(uid=18771, iid=3369, r_ui=1.0, est=0.5807342350962144, details={'was_impossible': False}),\n",
       " Prediction(uid=14077, iid=3492, r_ui=1.0, est=0.6553522321352515, details={'was_impossible': False}),\n",
       " Prediction(uid=6278, iid=640, r_ui=0.0, est=0.2267053366728794, details={'was_impossible': False}),\n",
       " Prediction(uid=19943, iid=4103, r_ui=0.0, est=0.6087973282010664, details={'was_impossible': False}),\n",
       " Prediction(uid=4786, iid=3885, r_ui=1.0, est=0.7548956914584808, details={'was_impossible': False}),\n",
       " Prediction(uid=18570, iid=1918, r_ui=1.0, est=0.776422483780221, details={'was_impossible': False}),\n",
       " Prediction(uid=872, iid=3894, r_ui=1.0, est=0.5689301146234174, details={'was_impossible': False}),\n",
       " Prediction(uid=4498, iid=447, r_ui=0.0, est=0.36328260492098774, details={'was_impossible': False}),\n",
       " Prediction(uid=18825, iid=2034, r_ui=1.0, est=0.3552473538778012, details={'was_impossible': False}),\n",
       " Prediction(uid=2504, iid=3286, r_ui=1.0, est=0.32940084985984924, details={'was_impossible': False}),\n",
       " Prediction(uid=15205, iid=2495, r_ui=0.0, est=0.43183994977427154, details={'was_impossible': False}),\n",
       " Prediction(uid=6597, iid=3728, r_ui=1.0, est=0.32377532507781404, details={'was_impossible': False}),\n",
       " Prediction(uid=4817, iid=1730, r_ui=0.0, est=0.10504523841243218, details={'was_impossible': False}),\n",
       " Prediction(uid=7580, iid=922, r_ui=1.0, est=0.59857813146261, details={'was_impossible': False}),\n",
       " Prediction(uid=14774, iid=4754, r_ui=1.0, est=0.7309115022698083, details={'was_impossible': False}),\n",
       " Prediction(uid=3553, iid=620, r_ui=1.0, est=0.39932623426900865, details={'was_impossible': False}),\n",
       " Prediction(uid=17568, iid=446, r_ui=0.0, est=0.44227331373817635, details={'was_impossible': False}),\n",
       " Prediction(uid=19669, iid=2657, r_ui=1.0, est=0.7566814503352248, details={'was_impossible': False}),\n",
       " Prediction(uid=10367, iid=262, r_ui=1.0, est=0.6897788840963511, details={'was_impossible': False}),\n",
       " Prediction(uid=1161, iid=4730, r_ui=0.0, est=0.4732632016650316, details={'was_impossible': False}),\n",
       " Prediction(uid=7507, iid=3879, r_ui=0.0, est=0.6754801063858623, details={'was_impossible': False}),\n",
       " Prediction(uid=1043, iid=931, r_ui=1.0, est=0.7908386412746337, details={'was_impossible': False}),\n",
       " Prediction(uid=6029, iid=2664, r_ui=1.0, est=0.7317991029463633, details={'was_impossible': False}),\n",
       " Prediction(uid=14503, iid=207, r_ui=1.0, est=0.5548943890432289, details={'was_impossible': False}),\n",
       " Prediction(uid=2489, iid=1271, r_ui=1.0, est=0.5749576416168564, details={'was_impossible': False}),\n",
       " Prediction(uid=3000, iid=2093, r_ui=1.0, est=0.9729366757978737, details={'was_impossible': False}),\n",
       " Prediction(uid=16499, iid=3529, r_ui=1.0, est=0.670624151286241, details={'was_impossible': False}),\n",
       " Prediction(uid=6108, iid=1378, r_ui=0.0, est=0, details={'was_impossible': False}),\n",
       " Prediction(uid=8785, iid=4926, r_ui=1.0, est=0.5880402373673356, details={'was_impossible': False}),\n",
       " Prediction(uid=5409, iid=13, r_ui=0.0, est=0.2610941767271777, details={'was_impossible': False}),\n",
       " Prediction(uid=40, iid=1354, r_ui=0.0, est=0.26762744221481083, details={'was_impossible': False}),\n",
       " Prediction(uid=119, iid=1206, r_ui=0.0, est=0.6419417776122474, details={'was_impossible': False}),\n",
       " Prediction(uid=6666, iid=2262, r_ui=0.0, est=0.41152945292738924, details={'was_impossible': False}),\n",
       " Prediction(uid=18893, iid=1733, r_ui=1.0, est=0.7902482837604495, details={'was_impossible': False}),\n",
       " Prediction(uid=8785, iid=2588, r_ui=1.0, est=0.9219636725565644, details={'was_impossible': False}),\n",
       " Prediction(uid=11945, iid=2965, r_ui=0.0, est=0.49167697522465365, details={'was_impossible': False}),\n",
       " Prediction(uid=6186, iid=2025, r_ui=0.0, est=0.35974659256647806, details={'was_impossible': False}),\n",
       " Prediction(uid=391, iid=4891, r_ui=1.0, est=0.244487680249353, details={'was_impossible': False}),\n",
       " Prediction(uid=1770, iid=231, r_ui=1.0, est=0.6982926040731717, details={'was_impossible': False}),\n",
       " Prediction(uid=17931, iid=4263, r_ui=0.0, est=0.5052620370576937, details={'was_impossible': False}),\n",
       " Prediction(uid=11388, iid=4022, r_ui=1.0, est=0.5772669464726641, details={'was_impossible': False}),\n",
       " Prediction(uid=11844, iid=542, r_ui=0.0, est=0.7770153823825023, details={'was_impossible': False}),\n",
       " Prediction(uid=19739, iid=3572, r_ui=1.0, est=0.7898181658593659, details={'was_impossible': False}),\n",
       " Prediction(uid=459, iid=1638, r_ui=1.0, est=0.5841348982328803, details={'was_impossible': False}),\n",
       " Prediction(uid=5653, iid=4471, r_ui=0.0, est=0.5295434408063667, details={'was_impossible': False}),\n",
       " Prediction(uid=13188, iid=2664, r_ui=1.0, est=0.737767237182559, details={'was_impossible': False}),\n",
       " Prediction(uid=7657, iid=2498, r_ui=0.0, est=0.07278922882598149, details={'was_impossible': False}),\n",
       " Prediction(uid=13400, iid=310, r_ui=1.0, est=0.7324169139331766, details={'was_impossible': False}),\n",
       " Prediction(uid=7790, iid=1958, r_ui=0.0, est=0.7323143076955366, details={'was_impossible': False}),\n",
       " Prediction(uid=19241, iid=392, r_ui=1.0, est=0.6171110300486832, details={'was_impossible': False}),\n",
       " Prediction(uid=12267, iid=583, r_ui=1.0, est=0.23283931805934224, details={'was_impossible': False}),\n",
       " Prediction(uid=3910, iid=2928, r_ui=1.0, est=0.537389190921562, details={'was_impossible': False}),\n",
       " Prediction(uid=3535, iid=3434, r_ui=1.0, est=0.500906136349991, details={'was_impossible': False}),\n",
       " Prediction(uid=19053, iid=3275, r_ui=0.0, est=0.4348885031789778, details={'was_impossible': False}),\n",
       " Prediction(uid=15438, iid=1305, r_ui=0.0, est=0.3502735563553686, details={'was_impossible': False}),\n",
       " Prediction(uid=2113, iid=1596, r_ui=0.0, est=0.3433843167802885, details={'was_impossible': False}),\n",
       " Prediction(uid=7514, iid=2591, r_ui=0.0, est=0.6128419094505524, details={'was_impossible': False}),\n",
       " Prediction(uid=19780, iid=3480, r_ui=1.0, est=0.2511689273739148, details={'was_impossible': False}),\n",
       " Prediction(uid=3078, iid=2861, r_ui=0.0, est=0.3503548915676741, details={'was_impossible': False}),\n",
       " Prediction(uid=19026, iid=4848, r_ui=0.0, est=0.5546039748146109, details={'was_impossible': False}),\n",
       " Prediction(uid=5606, iid=4668, r_ui=0.0, est=0.32140489690674806, details={'was_impossible': False}),\n",
       " Prediction(uid=14045, iid=2411, r_ui=1.0, est=0.3059820193065928, details={'was_impossible': False}),\n",
       " Prediction(uid=13068, iid=3382, r_ui=1.0, est=0.8336220594307994, details={'was_impossible': False}),\n",
       " Prediction(uid=17042, iid=4358, r_ui=0.0, est=0.6205122707369715, details={'was_impossible': False}),\n",
       " Prediction(uid=4127, iid=4925, r_ui=0.0, est=0.5290661365073077, details={'was_impossible': False}),\n",
       " Prediction(uid=16857, iid=3451, r_ui=0.0, est=0.24633838478708212, details={'was_impossible': False}),\n",
       " Prediction(uid=14206, iid=4693, r_ui=0.0, est=0.5198468750093765, details={'was_impossible': False}),\n",
       " Prediction(uid=9863, iid=3172, r_ui=0.0, est=0.3858354013730833, details={'was_impossible': False}),\n",
       " Prediction(uid=19342, iid=1161, r_ui=1.0, est=0.8246438578033121, details={'was_impossible': False}),\n",
       " Prediction(uid=11092, iid=2853, r_ui=1.0, est=0.4434146177428331, details={'was_impossible': False}),\n",
       " Prediction(uid=554, iid=3576, r_ui=0.0, est=0.2648341337368618, details={'was_impossible': False}),\n",
       " Prediction(uid=14178, iid=297, r_ui=0.0, est=0.6383467810279092, details={'was_impossible': False}),\n",
       " Prediction(uid=1695, iid=2366, r_ui=1.0, est=0.6833354696282463, details={'was_impossible': False}),\n",
       " Prediction(uid=8168, iid=1111, r_ui=0.0, est=0.24627279015005032, details={'was_impossible': False}),\n",
       " Prediction(uid=9021, iid=4217, r_ui=0.0, est=0.3569600231257712, details={'was_impossible': False}),\n",
       " Prediction(uid=5272, iid=262, r_ui=0.0, est=0.4643154671505496, details={'was_impossible': False}),\n",
       " Prediction(uid=19041, iid=1047, r_ui=1.0, est=0.5400088429263332, details={'was_impossible': False}),\n",
       " Prediction(uid=17345, iid=4917, r_ui=0.0, est=0.5438186438621135, details={'was_impossible': False}),\n",
       " Prediction(uid=7811, iid=89, r_ui=1.0, est=0.7276292268825743, details={'was_impossible': False}),\n",
       " Prediction(uid=11773, iid=3832, r_ui=1.0, est=0.9060906478530737, details={'was_impossible': False}),\n",
       " Prediction(uid=10311, iid=3571, r_ui=0.0, est=0.39562092572195284, details={'was_impossible': False}),\n",
       " Prediction(uid=9166, iid=925, r_ui=1.0, est=0.58670360972819, details={'was_impossible': False}),\n",
       " Prediction(uid=18735, iid=921, r_ui=1.0, est=0.6571158978205556, details={'was_impossible': False}),\n",
       " Prediction(uid=9761, iid=4362, r_ui=1.0, est=0.6457734592009399, details={'was_impossible': False}),\n",
       " Prediction(uid=18781, iid=1813, r_ui=0.0, est=0.3882152933212993, details={'was_impossible': False}),\n",
       " Prediction(uid=13979, iid=3867, r_ui=0.0, est=0.4729035795328357, details={'was_impossible': False}),\n",
       " Prediction(uid=445, iid=736, r_ui=0.0, est=0.44420956765946207, details={'was_impossible': False}),\n",
       " Prediction(uid=15380, iid=2980, r_ui=1.0, est=0.6037443316639622, details={'was_impossible': False}),\n",
       " Prediction(uid=8754, iid=2442, r_ui=1.0, est=0.31462814311260257, details={'was_impossible': False}),\n",
       " Prediction(uid=8816, iid=4148, r_ui=1.0, est=0.7228281215778379, details={'was_impossible': False}),\n",
       " Prediction(uid=16286, iid=88, r_ui=1.0, est=0.3983356923393005, details={'was_impossible': False}),\n",
       " Prediction(uid=13356, iid=1077, r_ui=0.0, est=0.5211369035929048, details={'was_impossible': False}),\n",
       " Prediction(uid=11220, iid=704, r_ui=1.0, est=0.5218304410947752, details={'was_impossible': False}),\n",
       " Prediction(uid=9498, iid=2407, r_ui=1.0, est=0.5289411654052103, details={'was_impossible': False}),\n",
       " Prediction(uid=8364, iid=3371, r_ui=1.0, est=0.5318472938599719, details={'was_impossible': False}),\n",
       " Prediction(uid=16107, iid=4784, r_ui=0.0, est=0.6463411832589282, details={'was_impossible': False}),\n",
       " Prediction(uid=7087, iid=1247, r_ui=0.0, est=0.6659174662956115, details={'was_impossible': False}),\n",
       " Prediction(uid=1101, iid=892, r_ui=1.0, est=0.3375915398721517, details={'was_impossible': False}),\n",
       " Prediction(uid=11189, iid=1267, r_ui=1.0, est=0.9178608249779896, details={'was_impossible': False}),\n",
       " Prediction(uid=9505, iid=4234, r_ui=0.0, est=0.6110069148462446, details={'was_impossible': False}),\n",
       " Prediction(uid=6469, iid=3060, r_ui=1.0, est=0.4770309843076325, details={'was_impossible': False}),\n",
       " Prediction(uid=7854, iid=3597, r_ui=1.0, est=0.47074611547338197, details={'was_impossible': False}),\n",
       " Prediction(uid=7661, iid=3941, r_ui=0.0, est=0.2750346330940031, details={'was_impossible': False}),\n",
       " Prediction(uid=1877, iid=2614, r_ui=0.0, est=0.48420382388216077, details={'was_impossible': False}),\n",
       " Prediction(uid=14795, iid=1894, r_ui=1.0, est=0.46983869613675777, details={'was_impossible': False}),\n",
       " Prediction(uid=14138, iid=4468, r_ui=1.0, est=0.6985525126623633, details={'was_impossible': False}),\n",
       " Prediction(uid=13952, iid=4754, r_ui=0.0, est=0.5698470898576324, details={'was_impossible': False}),\n",
       " Prediction(uid=9505, iid=3441, r_ui=1.0, est=0.4703312542685747, details={'was_impossible': False}),\n",
       " Prediction(uid=8838, iid=1731, r_ui=1.0, est=0.6022522159166696, details={'was_impossible': False}),\n",
       " Prediction(uid=17160, iid=4801, r_ui=0.0, est=0.26868159818856097, details={'was_impossible': False}),\n",
       " Prediction(uid=13341, iid=1670, r_ui=0.0, est=0.4464668669636467, details={'was_impossible': False}),\n",
       " Prediction(uid=4864, iid=2048, r_ui=0.0, est=0.6092758187205469, details={'was_impossible': False}),\n",
       " Prediction(uid=11923, iid=896, r_ui=1.0, est=0.5619556527670101, details={'was_impossible': False}),\n",
       " Prediction(uid=2187, iid=2645, r_ui=1.0, est=0.44193238980227634, details={'was_impossible': False}),\n",
       " Prediction(uid=8208, iid=1007, r_ui=1.0, est=0.779205408135857, details={'was_impossible': False}),\n",
       " Prediction(uid=17505, iid=1925, r_ui=0.0, est=0.5461274847681431, details={'was_impossible': False}),\n",
       " Prediction(uid=5493, iid=2053, r_ui=1.0, est=0.5125556088280334, details={'was_impossible': False}),\n",
       " Prediction(uid=695, iid=4806, r_ui=0.0, est=0.2741465556824227, details={'was_impossible': False}),\n",
       " Prediction(uid=2025, iid=3735, r_ui=1.0, est=0.42117753574226735, details={'was_impossible': False}),\n",
       " Prediction(uid=6625, iid=3896, r_ui=1.0, est=0.987463192568292, details={'was_impossible': False}),\n",
       " Prediction(uid=17163, iid=599, r_ui=0.0, est=0.3125465703651991, details={'was_impossible': False}),\n",
       " Prediction(uid=4546, iid=2126, r_ui=1.0, est=0.7104135929789188, details={'was_impossible': False}),\n",
       " Prediction(uid=18560, iid=788, r_ui=0.0, est=0.706494552980689, details={'was_impossible': False}),\n",
       " Prediction(uid=4672, iid=2304, r_ui=0.0, est=0.5034850075235018, details={'was_impossible': False}),\n",
       " Prediction(uid=11260, iid=2926, r_ui=0.0, est=0.30553956296030904, details={'was_impossible': False}),\n",
       " Prediction(uid=10033, iid=580, r_ui=1.0, est=0.7331507432076445, details={'was_impossible': False}),\n",
       " Prediction(uid=10224, iid=4458, r_ui=0.0, est=0.3106220942674568, details={'was_impossible': False}),\n",
       " Prediction(uid=17105, iid=537, r_ui=1.0, est=0.5145111418841187, details={'was_impossible': False}),\n",
       " Prediction(uid=1518, iid=2813, r_ui=0.0, est=0.34080114151480495, details={'was_impossible': False}),\n",
       " Prediction(uid=18600, iid=3750, r_ui=1.0, est=0.8348617743008667, details={'was_impossible': False}),\n",
       " Prediction(uid=1676, iid=560, r_ui=1.0, est=0.622637050162678, details={'was_impossible': False}),\n",
       " Prediction(uid=89, iid=4906, r_ui=1.0, est=0.7503244204157227, details={'was_impossible': False}),\n",
       " Prediction(uid=13279, iid=3625, r_ui=1.0, est=0.7025362165067869, details={'was_impossible': False}),\n",
       " Prediction(uid=4691, iid=4387, r_ui=1.0, est=0.46941738869194943, details={'was_impossible': False}),\n",
       " Prediction(uid=10284, iid=573, r_ui=1.0, est=0.4889285963405372, details={'was_impossible': False}),\n",
       " Prediction(uid=15195, iid=3402, r_ui=1.0, est=0.33295960630283705, details={'was_impossible': False}),\n",
       " Prediction(uid=16408, iid=2448, r_ui=1.0, est=0.7423519886911439, details={'was_impossible': False}),\n",
       " Prediction(uid=15008, iid=1803, r_ui=1.0, est=0.9180681395235633, details={'was_impossible': False}),\n",
       " Prediction(uid=15063, iid=843, r_ui=0.0, est=0.6037530486535203, details={'was_impossible': False}),\n",
       " Prediction(uid=16560, iid=3151, r_ui=1.0, est=0.6193031956449357, details={'was_impossible': False}),\n",
       " Prediction(uid=5145, iid=896, r_ui=1.0, est=0.7750616493706097, details={'was_impossible': False}),\n",
       " Prediction(uid=5162, iid=1806, r_ui=1.0, est=0.5848077105044974, details={'was_impossible': False}),\n",
       " Prediction(uid=12781, iid=1868, r_ui=0.0, est=0.3170651577493595, details={'was_impossible': False}),\n",
       " Prediction(uid=19466, iid=565, r_ui=0.0, est=0.47464222388363075, details={'was_impossible': False}),\n",
       " Prediction(uid=6792, iid=3684, r_ui=1.0, est=0.7106519574497371, details={'was_impossible': False}),\n",
       " Prediction(uid=3910, iid=1116, r_ui=1.0, est=0.6862768242683501, details={'was_impossible': False}),\n",
       " Prediction(uid=11985, iid=3570, r_ui=0.0, est=0.39276785988816504, details={'was_impossible': False}),\n",
       " Prediction(uid=3880, iid=1893, r_ui=0.0, est=0.40040208051951653, details={'was_impossible': False}),\n",
       " Prediction(uid=13534, iid=3344, r_ui=0.0, est=0.6103465732355122, details={'was_impossible': False}),\n",
       " Prediction(uid=13878, iid=4820, r_ui=1.0, est=0.6516865179705991, details={'was_impossible': False}),\n",
       " Prediction(uid=17377, iid=4884, r_ui=0.0, est=0.34175734470737024, details={'was_impossible': False}),\n",
       " Prediction(uid=18832, iid=983, r_ui=0.0, est=0.7581203251868217, details={'was_impossible': False}),\n",
       " Prediction(uid=11063, iid=802, r_ui=1.0, est=0.37685728652817085, details={'was_impossible': False}),\n",
       " Prediction(uid=10199, iid=3913, r_ui=0.0, est=0.39565964430647405, details={'was_impossible': False}),\n",
       " Prediction(uid=5450, iid=1383, r_ui=1.0, est=0.4514682781056689, details={'was_impossible': False}),\n",
       " Prediction(uid=13901, iid=1895, r_ui=1.0, est=0.8248894062642483, details={'was_impossible': False}),\n",
       " Prediction(uid=13153, iid=2608, r_ui=1.0, est=0.65276596011599, details={'was_impossible': False}),\n",
       " Prediction(uid=2136, iid=3740, r_ui=0.0, est=0.424855204567454, details={'was_impossible': False}),\n",
       " Prediction(uid=19534, iid=4841, r_ui=0.0, est=0.3924982611585917, details={'was_impossible': False}),\n",
       " Prediction(uid=15022, iid=3737, r_ui=1.0, est=0.55286371130724, details={'was_impossible': False}),\n",
       " Prediction(uid=1444, iid=835, r_ui=1.0, est=0.7833725111022922, details={'was_impossible': False}),\n",
       " Prediction(uid=4368, iid=1435, r_ui=1.0, est=0.34540396437770793, details={'was_impossible': False}),\n",
       " Prediction(uid=13761, iid=3252, r_ui=1.0, est=0.5114843491120862, details={'was_impossible': False}),\n",
       " Prediction(uid=9115, iid=3635, r_ui=1.0, est=0.8018020631111205, details={'was_impossible': False}),\n",
       " Prediction(uid=19496, iid=3413, r_ui=0.0, est=0.3879451812885278, details={'was_impossible': False}),\n",
       " Prediction(uid=7638, iid=236, r_ui=0.0, est=0.26789696202728636, details={'was_impossible': False}),\n",
       " Prediction(uid=3650, iid=4882, r_ui=1.0, est=0.7323389222452846, details={'was_impossible': False}),\n",
       " Prediction(uid=18151, iid=1835, r_ui=0.0, est=0.23189638049445166, details={'was_impossible': False}),\n",
       " Prediction(uid=19727, iid=2160, r_ui=1.0, est=0.6549374492038833, details={'was_impossible': False}),\n",
       " Prediction(uid=10038, iid=3847, r_ui=1.0, est=0.5836010714438866, details={'was_impossible': False}),\n",
       " Prediction(uid=18280, iid=3565, r_ui=0.0, est=0.410103506137735, details={'was_impossible': False}),\n",
       " Prediction(uid=18771, iid=805, r_ui=1.0, est=0.5872686492814629, details={'was_impossible': False}),\n",
       " Prediction(uid=16873, iid=1640, r_ui=0.0, est=0.6114968193980564, details={'was_impossible': False}),\n",
       " Prediction(uid=14883, iid=1252, r_ui=1.0, est=0.46518218587488813, details={'was_impossible': False}),\n",
       " Prediction(uid=7237, iid=3465, r_ui=0.0, est=0.6273359494843527, details={'was_impossible': False}),\n",
       " Prediction(uid=4757, iid=4174, r_ui=1.0, est=0.7858206795280396, details={'was_impossible': False}),\n",
       " Prediction(uid=5920, iid=4367, r_ui=1.0, est=0.7906658609730821, details={'was_impossible': False}),\n",
       " Prediction(uid=445, iid=3725, r_ui=1.0, est=0.5498067357328801, details={'was_impossible': False}),\n",
       " Prediction(uid=4148, iid=3723, r_ui=0.0, est=0.38848003746752785, details={'was_impossible': False}),\n",
       " Prediction(uid=5262, iid=3106, r_ui=1.0, est=0.45585901885829816, details={'was_impossible': False}),\n",
       " Prediction(uid=2823, iid=3805, r_ui=1.0, est=0.4336859927963721, details={'was_impossible': False}),\n",
       " Prediction(uid=10758, iid=4567, r_ui=1.0, est=0.9058467588356636, details={'was_impossible': False}),\n",
       " Prediction(uid=7138, iid=1271, r_ui=1.0, est=0.7469133960715478, details={'was_impossible': False}),\n",
       " Prediction(uid=6288, iid=4513, r_ui=1.0, est=0.9920058649850914, details={'was_impossible': False}),\n",
       " Prediction(uid=10372, iid=4772, r_ui=1.0, est=0.5058597312678962, details={'was_impossible': False}),\n",
       " Prediction(uid=14920, iid=1124, r_ui=1.0, est=0.6006867163200665, details={'was_impossible': False}),\n",
       " Prediction(uid=10661, iid=1692, r_ui=0.0, est=0.4600201167934807, details={'was_impossible': False}),\n",
       " Prediction(uid=14977, iid=203, r_ui=0.0, est=0.6911343664605465, details={'was_impossible': False}),\n",
       " Prediction(uid=13460, iid=1050, r_ui=1.0, est=0.8030154625433447, details={'was_impossible': False}),\n",
       " Prediction(uid=12817, iid=3111, r_ui=0.0, est=0.3830074058816083, details={'was_impossible': False}),\n",
       " Prediction(uid=6905, iid=872, r_ui=0.0, est=0.16365092471219403, details={'was_impossible': False}),\n",
       " Prediction(uid=11494, iid=1364, r_ui=0.0, est=0.58410669392755, details={'was_impossible': False}),\n",
       " Prediction(uid=9665, iid=324, r_ui=0.0, est=0.37133875991883797, details={'was_impossible': False}),\n",
       " Prediction(uid=8186, iid=1174, r_ui=1.0, est=0.8510725193291873, details={'was_impossible': False}),\n",
       " Prediction(uid=19290, iid=331, r_ui=1.0, est=0.4918676834681462, details={'was_impossible': False}),\n",
       " Prediction(uid=15450, iid=4095, r_ui=1.0, est=0.7572307072208967, details={'was_impossible': False}),\n",
       " Prediction(uid=19139, iid=56, r_ui=1.0, est=0.6366038448151803, details={'was_impossible': False}),\n",
       " Prediction(uid=1999, iid=3015, r_ui=0.0, est=0.3327041250139097, details={'was_impossible': False}),\n",
       " Prediction(uid=8503, iid=3916, r_ui=1.0, est=0.4375428677437365, details={'was_impossible': False}),\n",
       " Prediction(uid=18874, iid=2790, r_ui=0.0, est=0.5779887105768517, details={'was_impossible': False}),\n",
       " Prediction(uid=15422, iid=1165, r_ui=1.0, est=0.6107218574006668, details={'was_impossible': False}),\n",
       " Prediction(uid=8419, iid=787, r_ui=1.0, est=0.8005158673542784, details={'was_impossible': False}),\n",
       " Prediction(uid=15867, iid=1553, r_ui=1.0, est=0.7615017601622849, details={'was_impossible': False}),\n",
       " Prediction(uid=3272, iid=1827, r_ui=0.0, est=0.6071701899087993, details={'was_impossible': False}),\n",
       " Prediction(uid=3132, iid=2124, r_ui=0.0, est=0.6114458402733776, details={'was_impossible': False}),\n",
       " Prediction(uid=1805, iid=4106, r_ui=0.0, est=0.49426195750730284, details={'was_impossible': False}),\n",
       " Prediction(uid=1174, iid=1526, r_ui=0.0, est=0.46133199905907163, details={'was_impossible': False}),\n",
       " Prediction(uid=2038, iid=607, r_ui=0.0, est=0.6972257598662033, details={'was_impossible': False}),\n",
       " Prediction(uid=19168, iid=1533, r_ui=1.0, est=0.4496337995752715, details={'was_impossible': False}),\n",
       " Prediction(uid=6186, iid=790, r_ui=0.0, est=0.08287099769772176, details={'was_impossible': False}),\n",
       " Prediction(uid=2163, iid=2618, r_ui=1.0, est=0.735748653862863, details={'was_impossible': False}),\n",
       " Prediction(uid=2099, iid=4406, r_ui=1.0, est=0.9101152342766474, details={'was_impossible': False}),\n",
       " Prediction(uid=69, iid=3672, r_ui=1.0, est=0.7766394415664015, details={'was_impossible': False}),\n",
       " Prediction(uid=17531, iid=3907, r_ui=1.0, est=0.7134388988277656, details={'was_impossible': False}),\n",
       " Prediction(uid=13961, iid=2228, r_ui=1.0, est=0.8218731572112584, details={'was_impossible': False}),\n",
       " Prediction(uid=1113, iid=2964, r_ui=0.0, est=0.1756407757830639, details={'was_impossible': False}),\n",
       " Prediction(uid=6529, iid=3454, r_ui=1.0, est=0.8238373673889404, details={'was_impossible': False}),\n",
       " Prediction(uid=12273, iid=4186, r_ui=1.0, est=0.5529601054518847, details={'was_impossible': False}),\n",
       " Prediction(uid=12495, iid=3747, r_ui=1.0, est=0.7636410766497886, details={'was_impossible': False}),\n",
       " Prediction(uid=16709, iid=1917, r_ui=1.0, est=0.9188091303585774, details={'was_impossible': False}),\n",
       " Prediction(uid=13933, iid=4636, r_ui=0.0, est=0.7366692041685016, details={'was_impossible': False}),\n",
       " Prediction(uid=7863, iid=4515, r_ui=1.0, est=0.7762102727670277, details={'was_impossible': False}),\n",
       " Prediction(uid=14607, iid=2555, r_ui=1.0, est=0.8222970182032889, details={'was_impossible': False}),\n",
       " Prediction(uid=18481, iid=2376, r_ui=0.0, est=0.3320172393838975, details={'was_impossible': False}),\n",
       " Prediction(uid=7752, iid=3415, r_ui=1.0, est=0.5692066334361123, details={'was_impossible': False}),\n",
       " Prediction(uid=5013, iid=2850, r_ui=0.0, est=0.494557887357837, details={'was_impossible': False}),\n",
       " Prediction(uid=3750, iid=4406, r_ui=1.0, est=0.5171120538128978, details={'was_impossible': False}),\n",
       " Prediction(uid=17603, iid=4086, r_ui=0.0, est=0.2940432480072647, details={'was_impossible': False}),\n",
       " Prediction(uid=5314, iid=4461, r_ui=0.0, est=0.601119759091662, details={'was_impossible': False}),\n",
       " Prediction(uid=15711, iid=4812, r_ui=1.0, est=0.5732570129617193, details={'was_impossible': False}),\n",
       " Prediction(uid=663, iid=2365, r_ui=1.0, est=0.9588349920484598, details={'was_impossible': False}),\n",
       " Prediction(uid=2795, iid=2598, r_ui=1.0, est=0.5044967307711278, details={'was_impossible': False}),\n",
       " Prediction(uid=168, iid=4069, r_ui=0.0, est=0.4052983391613306, details={'was_impossible': False}),\n",
       " Prediction(uid=7332, iid=695, r_ui=0.0, est=0.3760897119223508, details={'was_impossible': False}),\n",
       " Prediction(uid=18738, iid=4157, r_ui=1.0, est=0.39914445384069347, details={'was_impossible': False}),\n",
       " Prediction(uid=18436, iid=3518, r_ui=1.0, est=0.5657942057845099, details={'was_impossible': False}),\n",
       " Prediction(uid=17251, iid=4808, r_ui=1.0, est=0.6444298885569771, details={'was_impossible': False}),\n",
       " Prediction(uid=9178, iid=2425, r_ui=1.0, est=0.7881682901099452, details={'was_impossible': False}),\n",
       " Prediction(uid=6693, iid=4824, r_ui=0.0, est=0.3539895228897202, details={'was_impossible': False}),\n",
       " Prediction(uid=3585, iid=3496, r_ui=1.0, est=0.6674773716751171, details={'was_impossible': False}),\n",
       " Prediction(uid=12476, iid=2429, r_ui=1.0, est=0.5585914522558972, details={'was_impossible': False}),\n",
       " Prediction(uid=7584, iid=2703, r_ui=0.0, est=0.33535458057096124, details={'was_impossible': False}),\n",
       " Prediction(uid=14109, iid=1943, r_ui=1.0, est=0.7836736203038416, details={'was_impossible': False}),\n",
       " Prediction(uid=18177, iid=4694, r_ui=0.0, est=0.27311903891848127, details={'was_impossible': False}),\n",
       " Prediction(uid=3270, iid=1526, r_ui=0.0, est=0.30787561547424197, details={'was_impossible': False}),\n",
       " Prediction(uid=14953, iid=1537, r_ui=1.0, est=0.7210777765561125, details={'was_impossible': False}),\n",
       " Prediction(uid=11661, iid=2322, r_ui=1.0, est=0.6333256024755753, details={'was_impossible': False}),\n",
       " Prediction(uid=14273, iid=2682, r_ui=0.0, est=0.44413075355159487, details={'was_impossible': False}),\n",
       " Prediction(uid=9270, iid=2104, r_ui=1.0, est=0.39135384267073997, details={'was_impossible': False}),\n",
       " Prediction(uid=15560, iid=3008, r_ui=0.0, est=0.756911069359431, details={'was_impossible': False}),\n",
       " Prediction(uid=14177, iid=513, r_ui=1.0, est=0.8174349169106373, details={'was_impossible': False}),\n",
       " Prediction(uid=18522, iid=2700, r_ui=1.0, est=0.36535270354512733, details={'was_impossible': False}),\n",
       " Prediction(uid=1573, iid=4104, r_ui=0.0, est=0.2834604037793541, details={'was_impossible': False}),\n",
       " Prediction(uid=16211, iid=3778, r_ui=0.0, est=0.6518522979322242, details={'was_impossible': False}),\n",
       " Prediction(uid=5558, iid=4065, r_ui=1.0, est=0.44547795894658304, details={'was_impossible': False}),\n",
       " Prediction(uid=6487, iid=3013, r_ui=1.0, est=0.7967145320790857, details={'was_impossible': False}),\n",
       " Prediction(uid=15359, iid=1810, r_ui=1.0, est=0.4348391737454603, details={'was_impossible': False}),\n",
       " Prediction(uid=16799, iid=2568, r_ui=1.0, est=0.6551815177020971, details={'was_impossible': False}),\n",
       " Prediction(uid=14542, iid=3726, r_ui=0.0, est=0.3289416196006057, details={'was_impossible': False}),\n",
       " Prediction(uid=4445, iid=4194, r_ui=0.0, est=0.6029503866707326, details={'was_impossible': False}),\n",
       " Prediction(uid=15137, iid=1554, r_ui=1.0, est=0.9515022697338944, details={'was_impossible': False}),\n",
       " Prediction(uid=464, iid=2263, r_ui=0.0, est=0.7643315559996141, details={'was_impossible': False}),\n",
       " Prediction(uid=4943, iid=3995, r_ui=1.0, est=0.46243102819373166, details={'was_impossible': False}),\n",
       " Prediction(uid=18815, iid=3967, r_ui=1.0, est=0.470787980972587, details={'was_impossible': False}),\n",
       " Prediction(uid=18457, iid=3431, r_ui=0.0, est=0.376372420109904, details={'was_impossible': False}),\n",
       " Prediction(uid=9344, iid=3508, r_ui=1.0, est=0.5611551088787603, details={'was_impossible': False}),\n",
       " Prediction(uid=15082, iid=4688, r_ui=0.0, est=0.26765111836312677, details={'was_impossible': False}),\n",
       " Prediction(uid=8114, iid=1322, r_ui=0.0, est=0.2927720618338465, details={'was_impossible': False}),\n",
       " Prediction(uid=5095, iid=3046, r_ui=0.0, est=0.550102015245584, details={'was_impossible': False}),\n",
       " Prediction(uid=9441, iid=526, r_ui=1.0, est=0.5386744457344725, details={'was_impossible': False}),\n",
       " Prediction(uid=11959, iid=467, r_ui=0.0, est=0.5682521482795564, details={'was_impossible': False}),\n",
       " Prediction(uid=18439, iid=89, r_ui=1.0, est=0.756572884421316, details={'was_impossible': False}),\n",
       " Prediction(uid=16894, iid=905, r_ui=1.0, est=0.8044268553962391, details={'was_impossible': False}),\n",
       " Prediction(uid=3806, iid=3817, r_ui=1.0, est=0.5792819574112951, details={'was_impossible': False}),\n",
       " Prediction(uid=774, iid=4051, r_ui=0.0, est=0.7364859859281853, details={'was_impossible': False}),\n",
       " Prediction(uid=11974, iid=2999, r_ui=1.0, est=0.7921460600952973, details={'was_impossible': False}),\n",
       " Prediction(uid=1879, iid=218, r_ui=1.0, est=0.22014389524794523, details={'was_impossible': False}),\n",
       " Prediction(uid=4243, iid=1368, r_ui=1.0, est=0.2978643781812289, details={'was_impossible': False}),\n",
       " Prediction(uid=14015, iid=1555, r_ui=0.0, est=0.5795772930058513, details={'was_impossible': False}),\n",
       " Prediction(uid=12476, iid=4767, r_ui=1.0, est=0.7675574817282783, details={'was_impossible': False}),\n",
       " Prediction(uid=12018, iid=2431, r_ui=0.0, est=0.6208461700323452, details={'was_impossible': False}),\n",
       " Prediction(uid=15949, iid=2896, r_ui=0.0, est=0.4357243171362175, details={'was_impossible': False}),\n",
       " ...]"
      ]
     },
     "execution_count": 43,
     "metadata": {},
     "output_type": "execute_result"
    }
   ],
   "source": [
    "svd_prediction2"
   ]
  },
  {
   "cell_type": "code",
   "execution_count": 44,
   "id": "1768ccd3",
   "metadata": {},
   "outputs": [
    {
     "data": {
      "text/plain": [
       "Prediction(uid=13613, iid=3446, r_ui=None, est=0.43729408897705213, details={'was_impossible': False})"
      ]
     },
     "execution_count": 44,
     "metadata": {},
     "output_type": "execute_result"
    }
   ],
   "source": [
    "# checking the prediction model \n",
    "# user_id : 13613\n",
    "user_13613_prediction = svd.predict(13613,3446)\n",
    "user_13613_prediction\n"
   ]
  },
  {
   "cell_type": "code",
   "execution_count": 45,
   "id": "7ae2478a",
   "metadata": {},
   "outputs": [
    {
     "data": {
      "text/plain": [
       "Prediction(uid=13613, iid=2640, r_ui=None, est=0.5141656715642827, details={'was_impossible': False})"
      ]
     },
     "execution_count": 45,
     "metadata": {},
     "output_type": "execute_result"
    }
   ],
   "source": [
    "user_13613_prediction1 = svd.predict(13613,2640)\n",
    "user_13613_prediction1"
   ]
  },
  {
   "cell_type": "markdown",
   "id": "8c323e80",
   "metadata": {},
   "source": [
    "From the above analysis, we can say that user(id:13613) may prefer item (id:2640) more than item (id: 3446),\n",
    "hence the system will recommend item (id:2640) to user (id: 13613)"
   ]
  }
 ],
 "metadata": {
  "kernelspec": {
   "display_name": "Python 3",
   "language": "python",
   "name": "python3"
  },
  "language_info": {
   "codemirror_mode": {
    "name": "ipython",
    "version": 3
   },
   "file_extension": ".py",
   "mimetype": "text/x-python",
   "name": "python",
   "nbconvert_exporter": "python",
   "pygments_lexer": "ipython3",
   "version": "3.8.8"
  }
 },
 "nbformat": 4,
 "nbformat_minor": 5
}
